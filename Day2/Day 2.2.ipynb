{
 "cells": [
  {
   "cell_type": "code",
   "execution_count": 10,
   "id": "suffering-light",
   "metadata": {},
   "outputs": [
    {
     "name": "stdout",
     "output_type": "stream",
     "text": [
      "[4, 16, 64, 100]\n"
     ]
    }
   ],
   "source": [
    "# List comprehension\n",
    "\n",
    "x=[1,2,3,4,5,7,8,9,10]\n",
    "\n",
    "# y --> even numbers\n",
    "\n",
    "y=[]\n",
    "\n",
    "for i in x:\n",
    "    if i%2==0:\n",
    "        y.append(i*i)\n",
    "print(y)\n",
    "\n",
    "i=30"
   ]
  },
  {
   "cell_type": "code",
   "execution_count": 14,
   "id": "aging-journalist",
   "metadata": {},
   "outputs": [],
   "source": [
    "i=30\n",
    "y=[i*i for i in x if i%2==0]"
   ]
  },
  {
   "cell_type": "code",
   "execution_count": 13,
   "id": "periodic-flood",
   "metadata": {},
   "outputs": [
    {
     "name": "stdout",
     "output_type": "stream",
     "text": [
      "[4, 16, 64, 100]\n"
     ]
    }
   ],
   "source": [
    "print(y)"
   ]
  },
  {
   "cell_type": "code",
   "execution_count": 15,
   "id": "animal-session",
   "metadata": {},
   "outputs": [
    {
     "name": "stdout",
     "output_type": "stream",
     "text": [
      "[7, 19, 89, 45]\n"
     ]
    }
   ],
   "source": [
    "numbers = (4, 7, 19, 2, 89, 45, 72, 22)\n",
    "odd_numbers = [x for x in numbers if x % 2 != 0]\n",
    "print(odd_numbers)"
   ]
  },
  {
   "cell_type": "code",
   "execution_count": 16,
   "id": "binding-throat",
   "metadata": {},
   "outputs": [
    {
     "name": "stdout",
     "output_type": "stream",
     "text": [
      "[1, 2]\n"
     ]
    }
   ],
   "source": [
    "a = [1, 2, 3, 4]\n",
    "b = [3, 4, 5, 6]\n",
    "c = [x for x in a if x not in b]\n",
    "print(c)"
   ]
  },
  {
   "cell_type": "code",
   "execution_count": 19,
   "id": "superb-financing",
   "metadata": {},
   "outputs": [],
   "source": [
    "one_to_10= [i*i for i in range(1,11)]"
   ]
  },
  {
   "cell_type": "code",
   "execution_count": 20,
   "id": "similar-gambling",
   "metadata": {},
   "outputs": [
    {
     "name": "stdout",
     "output_type": "stream",
     "text": [
      "[1, 4, 9, 16, 25, 36, 49, 64, 81, 100]\n"
     ]
    }
   ],
   "source": [
    "print(one_to_10)"
   ]
  },
  {
   "cell_type": "code",
   "execution_count": 23,
   "id": "bigger-valuable",
   "metadata": {},
   "outputs": [
    {
     "name": "stdout",
     "output_type": "stream",
     "text": [
      "-2, -3, -4, "
     ]
    }
   ],
   "source": [
    "for num in range(-2,-5,-1):\n",
    "    print(num, end=\", \")"
   ]
  },
  {
   "cell_type": "code",
   "execution_count": 26,
   "id": "remarkable-insured",
   "metadata": {},
   "outputs": [
    {
     "name": "stdout",
     "output_type": "stream",
     "text": [
      "2, -1, -4, "
     ]
    }
   ],
   "source": [
    "for num in range(2,-5,-3):\n",
    "    print(num, end=\", \")"
   ]
  },
  {
   "cell_type": "code",
   "execution_count": 28,
   "id": "round-heritage",
   "metadata": {},
   "outputs": [
    {
     "name": "stdout",
     "output_type": "stream",
     "text": [
      "90\n"
     ]
    }
   ],
   "source": [
    "x = 0\n",
    "for i in range(10):# 0-9 --> 10 times\n",
    "  for j in range(-1, -10, -1): # -1->-9 ---> 9 times\n",
    "    x += 1\n",
    "print(x)"
   ]
  },
  {
   "cell_type": "code",
   "execution_count": 29,
   "id": "nutritional-plumbing",
   "metadata": {},
   "outputs": [
    {
     "name": "stdout",
     "output_type": "stream",
     "text": [
      "5\n"
     ]
    }
   ],
   "source": [
    "# Ternary conditional/operator\n",
    "\n",
    "k=20\n",
    "\n",
    "if k>5:\n",
    "    t=5\n",
    "else:\n",
    "    t=2\n",
    "print(t)\n"
   ]
  },
  {
   "cell_type": "code",
   "execution_count": 30,
   "id": "automotive-textbook",
   "metadata": {},
   "outputs": [
    {
     "name": "stdout",
     "output_type": "stream",
     "text": [
      "5\n"
     ]
    }
   ],
   "source": [
    "t = 5 if k>5 else 2\n",
    "print(t)"
   ]
  },
  {
   "cell_type": "code",
   "execution_count": 31,
   "id": "first-agreement",
   "metadata": {},
   "outputs": [
    {
     "name": "stdout",
     "output_type": "stream",
     "text": [
      "Greater than 5\n"
     ]
    }
   ],
   "source": [
    "print(\"Greater than 5\" if k>5 else \"Less than 5\")"
   ]
  },
  {
   "cell_type": "code",
   "execution_count": 32,
   "id": "fourth-crash",
   "metadata": {},
   "outputs": [
    {
     "name": "stdout",
     "output_type": "stream",
     "text": [
      "10\n"
     ]
    }
   ],
   "source": [
    "a, b = 10, 20\n",
    "# a 10\n",
    "# b 20\n",
    " \n",
    "\n",
    "mini = a if a < b else b\n",
    "\n",
    "print(mini)"
   ]
  },
  {
   "cell_type": "code",
   "execution_count": 33,
   "id": "numerous-consultation",
   "metadata": {},
   "outputs": [
    {
     "name": "stdout",
     "output_type": "stream",
     "text": [
      "Even\n"
     ]
    }
   ],
   "source": [
    "def check(a):\n",
    "   print(\"Even\" if a % 2 == 0 else \"Odd\")\n",
    "   \n",
    "check(12)"
   ]
  },
  {
   "cell_type": "code",
   "execution_count": 34,
   "id": "original-sight",
   "metadata": {},
   "outputs": [
    {
     "name": "stdout",
     "output_type": "stream",
     "text": [
      "{1, 2, 3, 4, 5, 6}\n"
     ]
    }
   ],
   "source": [
    "# Union\n",
    "# Intersection\n",
    "# Difference\n",
    "\n",
    "s1 = {1, 2, 3, 4, 5}\n",
    "s2 = {2, 4, 6}\n",
    "\n",
    "# Union Karna hai\n",
    "print(s1|s2)"
   ]
  },
  {
   "cell_type": "code",
   "execution_count": 35,
   "id": "liberal-summary",
   "metadata": {},
   "outputs": [
    {
     "name": "stdout",
     "output_type": "stream",
     "text": [
      "{2, 4}\n"
     ]
    }
   ],
   "source": [
    "# Intersection \n",
    "print(s1&s2)"
   ]
  },
  {
   "cell_type": "code",
   "execution_count": 36,
   "id": "matched-pathology",
   "metadata": {},
   "outputs": [
    {
     "name": "stdout",
     "output_type": "stream",
     "text": [
      "{1, 3, 5}\n"
     ]
    }
   ],
   "source": [
    "# Difference\n",
    "print(s1-s2)"
   ]
  },
  {
   "cell_type": "code",
   "execution_count": 37,
   "id": "awful-complexity",
   "metadata": {},
   "outputs": [
    {
     "data": {
      "text/plain": [
       "512"
      ]
     },
     "execution_count": 37,
     "metadata": {},
     "output_type": "execute_result"
    }
   ],
   "source": [
    "2**3**2"
   ]
  },
  {
   "cell_type": "code",
   "execution_count": 38,
   "id": "expressed-sunrise",
   "metadata": {},
   "outputs": [
    {
     "data": {
      "text/plain": [
       "512"
      ]
     },
     "execution_count": 38,
     "metadata": {},
     "output_type": "execute_result"
    }
   ],
   "source": [
    "# ** operator , right to left\n",
    "\n",
    "#2**3**2\n",
    "#2**(3**2)\n",
    "#2**9\n",
    "#2**9"
   ]
  },
  {
   "cell_type": "code",
   "execution_count": 39,
   "id": "strategic-culture",
   "metadata": {},
   "outputs": [
    {
     "data": {
      "text/plain": [
       "4.2"
      ]
     },
     "execution_count": 39,
     "metadata": {},
     "output_type": "execute_result"
    }
   ],
   "source": [
    "2+3-25*20/5**2**2"
   ]
  },
  {
   "cell_type": "code",
   "execution_count": 40,
   "id": "seeing-chosen",
   "metadata": {},
   "outputs": [],
   "source": [
    "# paranthesis\n",
    "# ** R-L\n",
    "# / * %\n",
    "# - +"
   ]
  },
  {
   "cell_type": "code",
   "execution_count": 41,
   "id": "boxed-correlation",
   "metadata": {},
   "outputs": [
    {
     "data": {
      "text/plain": [
       "4.2"
      ]
     },
     "execution_count": 41,
     "metadata": {},
     "output_type": "execute_result"
    }
   ],
   "source": [
    "2+3-25*20/5**4"
   ]
  },
  {
   "cell_type": "code",
   "execution_count": 42,
   "id": "foster-portable",
   "metadata": {},
   "outputs": [
    {
     "data": {
      "text/plain": [
       "4.2"
      ]
     },
     "execution_count": 42,
     "metadata": {},
     "output_type": "execute_result"
    }
   ],
   "source": [
    "2+3-25*20/625"
   ]
  },
  {
   "cell_type": "code",
   "execution_count": 43,
   "id": "horizontal-dance",
   "metadata": {},
   "outputs": [
    {
     "data": {
      "text/plain": [
       "4.2"
      ]
     },
     "execution_count": 43,
     "metadata": {},
     "output_type": "execute_result"
    }
   ],
   "source": [
    "# 2+3-(25*20)/625\n",
    "2+3-500/625"
   ]
  },
  {
   "cell_type": "code",
   "execution_count": 44,
   "id": "directed-annotation",
   "metadata": {},
   "outputs": [
    {
     "data": {
      "text/plain": [
       "0.8"
      ]
     },
     "execution_count": 44,
     "metadata": {},
     "output_type": "execute_result"
    }
   ],
   "source": [
    "500/625"
   ]
  },
  {
   "cell_type": "code",
   "execution_count": 46,
   "id": "exciting-curve",
   "metadata": {},
   "outputs": [
    {
     "data": {
      "text/plain": [
       "4.2"
      ]
     },
     "execution_count": 46,
     "metadata": {},
     "output_type": "execute_result"
    }
   ],
   "source": [
    "2+3-0.8"
   ]
  },
  {
   "cell_type": "code",
   "execution_count": null,
   "id": "armed-cincinnati",
   "metadata": {},
   "outputs": [],
   "source": [
    "####################################"
   ]
  },
  {
   "cell_type": "code",
   "execution_count": 48,
   "id": "imperial-notification",
   "metadata": {},
   "outputs": [
    {
     "name": "stdout",
     "output_type": "stream",
     "text": [
      "0\n"
     ]
    }
   ],
   "source": [
    "# For else, while else\n",
    "\n",
    "for i in range(5):\n",
    "    print(i)\n",
    "    break\n",
    "else:\n",
    "    print(\"break nahi chala\")"
   ]
  },
  {
   "cell_type": "code",
   "execution_count": 56,
   "id": "common-pakistan",
   "metadata": {},
   "outputs": [
    {
     "name": "stdout",
     "output_type": "stream",
     "text": [
      "Number nahi mila\n"
     ]
    }
   ],
   "source": [
    "l=[1,2,3,4,5]\n",
    "t=92\n",
    "for i in l:\n",
    "    if i==t:\n",
    "        print(\"Number mil gya\")\n",
    "        break\n",
    "else:\n",
    "    print(\"Number nahi mila\")"
   ]
  },
  {
   "cell_type": "code",
   "execution_count": null,
   "id": "spatial-pharmaceutical",
   "metadata": {},
   "outputs": [],
   "source": [
    "### else block\n",
    "# if , try except , for , while"
   ]
  },
  {
   "cell_type": "code",
   "execution_count": 60,
   "id": "infectious-transfer",
   "metadata": {},
   "outputs": [
    {
     "name": "stdout",
     "output_type": "stream",
     "text": [
      "1\n",
      "2\n",
      "3\n",
      "1\n",
      "2\n",
      "3\n"
     ]
    }
   ],
   "source": [
    "### Function and arguments\n",
    "# arguments vs parameters\n",
    "\n",
    "def mera_func(a,b,c):\n",
    "    print(a)\n",
    "    print(b)\n",
    "    print(c)\n",
    "\n",
    "mera_func(1,2,3) # Positinal Arguments\n",
    "mera_func(c=3,b=2,a=1) # keyword arguments"
   ]
  },
  {
   "cell_type": "code",
   "execution_count": 71,
   "id": "ultimate-strengthening",
   "metadata": {},
   "outputs": [],
   "source": [
    "def mera_dusra_func(a=2,b=1,c=0):# Default parameter\n",
    "    print(a,b,c)"
   ]
  },
  {
   "cell_type": "code",
   "execution_count": 72,
   "id": "unable-reasoning",
   "metadata": {},
   "outputs": [
    {
     "name": "stdout",
     "output_type": "stream",
     "text": [
      "2 1 2\n"
     ]
    }
   ],
   "source": [
    "mera_dusra_func(c=2)"
   ]
  },
  {
   "cell_type": "code",
   "execution_count": 85,
   "id": "comparable-hardwood",
   "metadata": {},
   "outputs": [
    {
     "name": "stdout",
     "output_type": "stream",
     "text": [
      "(2, 3, 4, 5, 6)\n"
     ]
    },
    {
     "data": {
      "text/plain": [
       "20"
      ]
     },
     "execution_count": 85,
     "metadata": {},
     "output_type": "execute_result"
    }
   ],
   "source": [
    "# *args\n",
    "# variable positional arguments\n",
    "# tuple mei store hote hai arguments\n",
    "\n",
    "def add_func(a,*args):\n",
    "    print(args)\n",
    "    sum=0\n",
    "    for i in args:\n",
    "        sum+=i\n",
    "    return sum\n",
    "    \n",
    "add_func(1,2,3,4,5,6)"
   ]
  },
  {
   "cell_type": "code",
   "execution_count": 86,
   "id": "integral-window",
   "metadata": {},
   "outputs": [
    {
     "name": "stdout",
     "output_type": "stream",
     "text": [
      "{'a': 1, 'b': 20, 'c': 69, 'd': 23}\n"
     ]
    }
   ],
   "source": [
    "# **kwargs\n",
    "# variable keyword arguments\n",
    "# dictionary mei store hote hai\n",
    "\n",
    "def dusra_func(**kwargs):\n",
    "    print(kwargs)\n",
    "\n",
    "dusra_func(a=1,b=20,c=69,d=23)\n"
   ]
  },
  {
   "cell_type": "code",
   "execution_count": 87,
   "id": "structural-shepherd",
   "metadata": {},
   "outputs": [
    {
     "name": "stdout",
     "output_type": "stream",
     "text": [
      "1 2 3\n",
      "(4, 5, 6, 7)\n",
      "{'d': 20, 'e': 23, 'test': 20}\n"
     ]
    }
   ],
   "source": [
    "\n",
    "def compli(a,b,c,*args,**kwargs):\n",
    "    print(a,b,c)\n",
    "    print(args)\n",
    "    print(kwargs)\n",
    "\n",
    "compli(1,2,3,4,5,6,7,d=20,e=23,test=20)\n",
    "\n"
   ]
  },
  {
   "cell_type": "code",
   "execution_count": 88,
   "id": "quick-theory",
   "metadata": {},
   "outputs": [
    {
     "name": "stdout",
     "output_type": "stream",
     "text": [
      "emp\n",
      "salary\n"
     ]
    }
   ],
   "source": [
    "def display(**kwargs):\n",
    "    for i in kwargs:\n",
    "        print(i)\n",
    "\n",
    "display(emp=\"Kelly\", salary=9000)\n",
    "# kwargs = {emp:\"kelly\",salary:9000}\n"
   ]
  },
  {
   "cell_type": "code",
   "execution_count": null,
   "id": "hispanic-andrew",
   "metadata": {},
   "outputs": [],
   "source": []
  }
 ],
 "metadata": {
  "kernelspec": {
   "display_name": "Python 3",
   "language": "python",
   "name": "python3"
  },
  "language_info": {
   "codemirror_mode": {
    "name": "ipython",
    "version": 3
   },
   "file_extension": ".py",
   "mimetype": "text/x-python",
   "name": "python",
   "nbconvert_exporter": "python",
   "pygments_lexer": "ipython3",
   "version": "3.8.2"
  }
 },
 "nbformat": 4,
 "nbformat_minor": 5
}
