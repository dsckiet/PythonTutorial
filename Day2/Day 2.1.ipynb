{
  "nbformat": 4,
  "nbformat_minor": 0,
  "metadata": {
    "colab": {
      "name": "day 2.ipynb",
      "provenance": [],
      "collapsed_sections": []
    },
    "kernelspec": {
      "name": "python3",
      "display_name": "Python 3"
    },
    "language_info": {
      "name": "python"
    }
  },
  "cells": [
    {
      "cell_type": "code",
      "source": [
        "2**3"
      ],
      "metadata": {
        "colab": {
          "base_uri": "https://localhost:8080/"
        },
        "id": "zJ10xBvAwUtP",
        "outputId": "accbb311-903e-4823-d180-e7d72f780cdc"
      },
      "execution_count": 8,
      "outputs": [
        {
          "output_type": "execute_result",
          "data": {
            "text/plain": [
              "8"
            ]
          },
          "metadata": {},
          "execution_count": 8
        }
      ]
    },
    {
      "cell_type": "code",
      "source": [
        "def fun():\n",
        "  \"koi bhi string\"\n",
        "  return(1)\n",
        "print(fun.__doc__[1:])"
      ],
      "metadata": {
        "colab": {
          "base_uri": "https://localhost:8080/"
        },
        "id": "4p-eMzjcwh4q",
        "outputId": "6ade9b58-154f-4ad3-ca94-39c1169b3820"
      },
      "execution_count": 10,
      "outputs": [
        {
          "output_type": "stream",
          "name": "stdout",
          "text": [
            "oi bhi string\n"
          ]
        }
      ]
    },
    {
      "cell_type": "code",
      "source": [
        "l1= [1,2,3,4]\n",
        "l2= l1.copy()\n",
        "l2.append(5)\n",
        "print(l1)"
      ],
      "metadata": {
        "colab": {
          "base_uri": "https://localhost:8080/"
        },
        "id": "EuJTbu9Pwz8I",
        "outputId": "270cc08e-afc6-4bd1-c62d-856866dcf83c"
      },
      "execution_count": 13,
      "outputs": [
        {
          "output_type": "stream",
          "name": "stdout",
          "text": [
            "[1, 2, 3, 4]\n"
          ]
        }
      ]
    },
    {
      "cell_type": "code",
      "source": [
        "print(\"any string in this \\t newline\")"
      ],
      "metadata": {
        "colab": {
          "base_uri": "https://localhost:8080/"
        },
        "id": "7BxZsJRYxE0O",
        "outputId": "d8e73e1e-553f-4196-f074-520928e63b00"
      },
      "execution_count": 17,
      "outputs": [
        {
          "output_type": "stream",
          "name": "stdout",
          "text": [
            "any string in this \t newline\n"
          ]
        }
      ]
    },
    {
      "cell_type": "code",
      "execution_count": 18,
      "metadata": {
        "colab": {
          "base_uri": "https://localhost:8080/"
        },
        "id": "Nhl1080ZXD1g",
        "outputId": "970d0743-6612-4582-ddd8-368343847075"
      },
      "outputs": [
        {
          "output_type": "stream",
          "name": "stdout",
          "text": [
            "24\n"
          ]
        }
      ],
      "source": [
        "r = lambda q: q * 2\n",
        "s = lambda q: q * 3\n",
        "x = 2\n",
        "x = r(x) #4\n",
        "x = s(x) #12\n",
        "x = r(x) #24\n",
        "print (x)"
      ]
    },
    {
      "cell_type": "code",
      "source": [
        "a = True\n",
        "b = False\n",
        "c = False\n",
        "  \n",
        "if a or b and c:\n",
        "    print (\"GEEKSFORGEEKS\")\n",
        "else:\n",
        "    print (\"geeksforgeeks\")"
      ],
      "metadata": {
        "colab": {
          "base_uri": "https://localhost:8080/"
        },
        "id": "gMMUb5paXKX9",
        "outputId": "00a50477-1445-454a-d400-dd466ac46a23"
      },
      "execution_count": 19,
      "outputs": [
        {
          "output_type": "stream",
          "name": "stdout",
          "text": [
            "GEEKSFORGEEKS\n"
          ]
        }
      ]
    },
    {
      "cell_type": "code",
      "source": [
        "values = [1, 2, 3, 4,4]\n",
        "numbers = set(values) #(1,2,3,4)\n",
        " \n",
        "def checknums(num):\n",
        "    if num in numbers:\n",
        "        return True\n",
        "    else:\n",
        "        return False\n",
        " \n",
        "for i in  filter(checknums, values):\n",
        "    print(i)"
      ],
      "metadata": {
        "colab": {
          "base_uri": "https://localhost:8080/"
        },
        "id": "1usPvXo_XPaz",
        "outputId": "06e64d18-c747-42ba-a1ec-1bbf498edbbe"
      },
      "execution_count": 20,
      "outputs": [
        {
          "output_type": "stream",
          "name": "stdout",
          "text": [
            "1\n",
            "2\n",
            "3\n",
            "4\n",
            "4\n"
          ]
        }
      ]
    },
    {
      "cell_type": "code",
      "source": [
        "counter = {} #dictionary\n",
        " \n",
        "def addToCounter(country):\n",
        "    if country in  counter:\n",
        "        counter[country] += 1\n",
        "    else:\n",
        "        counter[country] = 1\n",
        " \n",
        "addToCounter('China') #China:1\n",
        "addToCounter('Japan') #japan:1+1=2\n",
        "addToCounter('china')\n",
        "addToCounter('australia') #china:1\n",
        " \n",
        "print(len(counter))\n",
        "counter"
      ],
      "metadata": {
        "colab": {
          "base_uri": "https://localhost:8080/"
        },
        "id": "lACOl1vbXtQq",
        "outputId": "ecc4450a-028d-42e2-bac0-dfe1542f5186"
      },
      "execution_count": 24,
      "outputs": [
        {
          "output_type": "stream",
          "name": "stdout",
          "text": [
            "4\n"
          ]
        },
        {
          "output_type": "execute_result",
          "data": {
            "text/plain": [
              "{'China': 1, 'Japan': 1, 'australia': 1, 'china': 1}"
            ]
          },
          "metadata": {},
          "execution_count": 24
        }
      ]
    },
    {
      "cell_type": "code",
      "source": [
        "nameList = ['Harsh', 'Pratik', 'Bob', 'Dhruv']\n",
        "  \n",
        "pos = nameList.index(\"GeeksforGeeks\")\n",
        "  \n",
        "print (pos * 5) "
      ],
      "metadata": {
        "colab": {
          "base_uri": "https://localhost:8080/",
          "height": 234
        },
        "id": "o2XS7Q67X0Zc",
        "outputId": "dd4b225d-3af7-4e3c-c8cb-c4403dc6df0b"
      },
      "execution_count": 23,
      "outputs": [
        {
          "output_type": "error",
          "ename": "ValueError",
          "evalue": "ignored",
          "traceback": [
            "\u001b[0;31m---------------------------------------------------------------------------\u001b[0m",
            "\u001b[0;31mValueError\u001b[0m                                Traceback (most recent call last)",
            "\u001b[0;32m<ipython-input-23-fca2c75033f7>\u001b[0m in \u001b[0;36m<module>\u001b[0;34m()\u001b[0m\n\u001b[1;32m      1\u001b[0m \u001b[0mnameList\u001b[0m \u001b[0;34m=\u001b[0m \u001b[0;34m[\u001b[0m\u001b[0;34m'Harsh'\u001b[0m\u001b[0;34m,\u001b[0m \u001b[0;34m'Pratik'\u001b[0m\u001b[0;34m,\u001b[0m \u001b[0;34m'Bob'\u001b[0m\u001b[0;34m,\u001b[0m \u001b[0;34m'Dhruv'\u001b[0m\u001b[0;34m]\u001b[0m\u001b[0;34m\u001b[0m\u001b[0;34m\u001b[0m\u001b[0m\n\u001b[1;32m      2\u001b[0m \u001b[0;34m\u001b[0m\u001b[0m\n\u001b[0;32m----> 3\u001b[0;31m \u001b[0mpos\u001b[0m \u001b[0;34m=\u001b[0m \u001b[0mnameList\u001b[0m\u001b[0;34m.\u001b[0m\u001b[0mindex\u001b[0m\u001b[0;34m(\u001b[0m\u001b[0;34m\"GeeksforGeeks\"\u001b[0m\u001b[0;34m)\u001b[0m\u001b[0;34m\u001b[0m\u001b[0;34m\u001b[0m\u001b[0m\n\u001b[0m\u001b[1;32m      4\u001b[0m \u001b[0;34m\u001b[0m\u001b[0m\n\u001b[1;32m      5\u001b[0m \u001b[0mprint\u001b[0m \u001b[0;34m(\u001b[0m\u001b[0mpos\u001b[0m \u001b[0;34m*\u001b[0m \u001b[0;36m5\u001b[0m\u001b[0;34m)\u001b[0m\u001b[0;34m\u001b[0m\u001b[0;34m\u001b[0m\u001b[0m\n",
            "\u001b[0;31mValueError\u001b[0m: 'GeeksforGeeks' is not in list"
          ]
        }
      ]
    },
    {
      "cell_type": "code",
      "source": [
        "geekCodes = [1, 2, 3, 4]\n",
        "  \n",
        "geekCodes.append([5,6,7,8])\n",
        "print (len(geekCodes))\n",
        "\n",
        "  \n",
        "print(geekCodes)"
      ],
      "metadata": {
        "colab": {
          "base_uri": "https://localhost:8080/"
        },
        "id": "bHiEUJtSX7ku",
        "outputId": "0e4630a0-6259-4891-cea8-95e9ccac0902"
      },
      "execution_count": 25,
      "outputs": [
        {
          "output_type": "stream",
          "name": "stdout",
          "text": [
            "5\n",
            "[1, 2, 3, 4, [5, 6, 7, 8]]\n"
          ]
        }
      ]
    },
    {
      "cell_type": "code",
      "source": [
        "def gfgFunction():\n",
        "    \"Geeksforgeeks is cool website for boosting up technical skills\"\n",
        "    return 1\n",
        "  \n",
        "print (gfgFunction.__doc__[17:21])"
      ],
      "metadata": {
        "colab": {
          "base_uri": "https://localhost:8080/"
        },
        "id": "oWy7CEokYAwR",
        "outputId": "dd05dcc4-2f26-4613-fe6e-46e232a29f9c"
      },
      "execution_count": 26,
      "outputs": [
        {
          "output_type": "stream",
          "name": "stdout",
          "text": [
            "cool\n"
          ]
        }
      ]
    },
    {
      "cell_type": "code",
      "source": [
        "check1 = ['Learn', 'Quiz', 'Practice', 'Contribute']\n",
        "check2 = check1\n",
        "check3 = check1[:] \n",
        "  \n",
        "check2[0] = 'Code' #[code, quiz, pra, contri]\n",
        "check3[1] = 'Mcq'  #[learn, mcq, prac, contri]\n",
        "  \n",
        "count = 0\n",
        "for c in (check1, check2, check3):\n",
        "    if c[0] == 'Code': \n",
        "        count += 1 #2\n",
        "    if c[1] == 'Mcq':\n",
        "        count += 10 #12\n",
        "  \n",
        "print (count)"
      ],
      "metadata": {
        "colab": {
          "base_uri": "https://localhost:8080/"
        },
        "id": "_pdas4upYJkr",
        "outputId": "29c89aec-b1cc-4ee2-d9ff-0ebee08bff73"
      },
      "execution_count": 27,
      "outputs": [
        {
          "output_type": "stream",
          "name": "stdout",
          "text": [
            "12\n"
          ]
        }
      ]
    },
    {
      "cell_type": "code",
      "source": [
        "list1 = [1, 2, 3, 4, 5]\n",
        "list2 = list1\n",
        "  \n",
        "list2[0] = 0;\n",
        "  \n",
        "print (\"list1= : \", list1)"
      ],
      "metadata": {
        "colab": {
          "base_uri": "https://localhost:8080/"
        },
        "id": "BN8-trz6YQJ2",
        "outputId": "4e62f8a5-909b-49a5-c34b-32885afe451e"
      },
      "execution_count": 28,
      "outputs": [
        {
          "output_type": "stream",
          "name": "stdout",
          "text": [
            "list1= :  [0, 2, 3, 4, 5]\n"
          ]
        }
      ]
    },
    {
      "cell_type": "code",
      "source": [
        "print ('C:\\\\inside C directory') # statement1\n",
        "  \n",
        "print (r'C:\\\\inside C directory')"
      ],
      "metadata": {
        "colab": {
          "base_uri": "https://localhost:8080/"
        },
        "id": "33kx1YwyYtT2",
        "outputId": "4e20b50e-302b-452b-92d6-92a1a8b04069"
      },
      "execution_count": 29,
      "outputs": [
        {
          "output_type": "stream",
          "name": "stdout",
          "text": [
            "C:\\inside C directory\n",
            "C:\\\\inside C directory\n"
          ]
        }
      ]
    },
    {
      "cell_type": "code",
      "source": [
        "print ('\\x25\\x26')"
      ],
      "metadata": {
        "colab": {
          "base_uri": "https://localhost:8080/"
        },
        "id": "VV4UjvY-ZoV0",
        "outputId": "8ada74d2-c517-49bf-8326-dc2925ee51c4"
      },
      "execution_count": 30,
      "outputs": [
        {
          "output_type": "stream",
          "name": "stdout",
          "text": [
            "%&\n"
          ]
        }
      ]
    },
    {
      "cell_type": "code",
      "source": [
        "list = [1, 2, 3, None, (1, 2, 3, 4, 5), ['Geeks', 'for', 'Geeks']]\n",
        "print (len(list))"
      ],
      "metadata": {
        "colab": {
          "base_uri": "https://localhost:8080/"
        },
        "id": "0G0Oa2_1aKD3",
        "outputId": "d20a2900-4078-451f-955f-55a3a5a7b05f"
      },
      "execution_count": 31,
      "outputs": [
        {
          "output_type": "stream",
          "name": "stdout",
          "text": [
            "6\n"
          ]
        }
      ]
    },
    {
      "cell_type": "code",
      "source": [
        "d1 = [10, 20, 30, 40, 50]\n",
        "d2 = [1, 2, 3, 4, 5]\n",
        "print (d1 - d1)"
      ],
      "metadata": {
        "colab": {
          "base_uri": "https://localhost:8080/",
          "height": 200
        },
        "id": "lU6-IY5SbOD3",
        "outputId": "2adc725d-26c4-47bf-ce0c-195908b96ceb"
      },
      "execution_count": 32,
      "outputs": [
        {
          "output_type": "error",
          "ename": "TypeError",
          "evalue": "ignored",
          "traceback": [
            "\u001b[0;31m---------------------------------------------------------------------------\u001b[0m",
            "\u001b[0;31mTypeError\u001b[0m                                 Traceback (most recent call last)",
            "\u001b[0;32m<ipython-input-32-ff0aaf35c4d0>\u001b[0m in \u001b[0;36m<module>\u001b[0;34m()\u001b[0m\n\u001b[1;32m      1\u001b[0m \u001b[0md1\u001b[0m \u001b[0;34m=\u001b[0m \u001b[0;34m[\u001b[0m\u001b[0;36m10\u001b[0m\u001b[0;34m,\u001b[0m \u001b[0;36m20\u001b[0m\u001b[0;34m,\u001b[0m \u001b[0;36m30\u001b[0m\u001b[0;34m,\u001b[0m \u001b[0;36m40\u001b[0m\u001b[0;34m,\u001b[0m \u001b[0;36m50\u001b[0m\u001b[0;34m]\u001b[0m\u001b[0;34m\u001b[0m\u001b[0;34m\u001b[0m\u001b[0m\n\u001b[1;32m      2\u001b[0m \u001b[0md2\u001b[0m \u001b[0;34m=\u001b[0m \u001b[0;34m[\u001b[0m\u001b[0;36m1\u001b[0m\u001b[0;34m,\u001b[0m \u001b[0;36m2\u001b[0m\u001b[0;34m,\u001b[0m \u001b[0;36m3\u001b[0m\u001b[0;34m,\u001b[0m \u001b[0;36m4\u001b[0m\u001b[0;34m,\u001b[0m \u001b[0;36m5\u001b[0m\u001b[0;34m]\u001b[0m\u001b[0;34m\u001b[0m\u001b[0;34m\u001b[0m\u001b[0m\n\u001b[0;32m----> 3\u001b[0;31m \u001b[0mprint\u001b[0m \u001b[0;34m(\u001b[0m\u001b[0md1\u001b[0m \u001b[0;34m-\u001b[0m \u001b[0md1\u001b[0m\u001b[0;34m)\u001b[0m\u001b[0;34m\u001b[0m\u001b[0;34m\u001b[0m\u001b[0m\n\u001b[0m",
            "\u001b[0;31mTypeError\u001b[0m: unsupported operand type(s) for -: 'list' and 'list'"
          ]
        }
      ]
    },
    {
      "cell_type": "code",
      "source": [
        "list = ['a', 'b', 'c']*-3\n",
        "print (list)"
      ],
      "metadata": {
        "colab": {
          "base_uri": "https://localhost:8080/"
        },
        "id": "umQxBSvsbY7F",
        "outputId": "c5d3c2db-0273-4acf-f103-49a42b85eb5f"
      },
      "execution_count": 35,
      "outputs": [
        {
          "output_type": "stream",
          "name": "stdout",
          "text": [
            "[]\n"
          ]
        }
      ]
    },
    {
      "cell_type": "markdown",
      "source": [
        "Exception handling"
      ],
      "metadata": {
        "id": "pEs3IjDT4vk9"
      }
    },
    {
      "cell_type": "code",
      "source": [
        "data = 50\n",
        "try:\n",
        "    data = data/0\n",
        "except ZeroDivisionError:\n",
        "    print('Cannot divide by 0 ', end = '')\n",
        "else:\n",
        "    print('Division successful ', end = '')\n",
        "  \n",
        "try:\n",
        "    data = data/5\n",
        "except:\n",
        "    print('Inside except block ', end = '')\n",
        "else:\n",
        "    print('GFG', end = '') #cfg"
      ],
      "metadata": {
        "colab": {
          "base_uri": "https://localhost:8080/"
        },
        "id": "bO4xk7PPbog9",
        "outputId": "4b9309b4-ec27-484a-cd0e-84b056c5d424"
      },
      "execution_count": 36,
      "outputs": [
        {
          "output_type": "stream",
          "name": "stdout",
          "text": [
            "Cannot divide by 0 GFG"
          ]
        }
      ]
    },
    {
      "cell_type": "code",
      "source": [
        "value = [1, 2, 3, 4]\n",
        "data = 0\n",
        "try:\n",
        "    data = value[4]\n",
        "except IndexError:\n",
        "    print('GFG', end = '')\n",
        "except:\n",
        "    print('GeeksforGeeks ', end = '')"
      ],
      "metadata": {
        "colab": {
          "base_uri": "https://localhost:8080/"
        },
        "id": "eR3SDsGedo4o",
        "outputId": "576a05c4-1897-485a-e1fb-8579d9a483b7"
      },
      "execution_count": 37,
      "outputs": [
        {
          "output_type": "stream",
          "name": "stdout",
          "text": [
            "GFG"
          ]
        }
      ]
    },
    {
      "cell_type": "code",
      "source": [
        "value = [1, 2, 3, 4]\n",
        "data = 0\n",
        "try:\n",
        "    data = value[3] #4\n",
        "except IndexError:\n",
        "    print('GFG IndexError  ', end = '')\n",
        "except:\n",
        "    print('GeeksforGeeks IndexError  ', end = '')\n",
        "finally:\n",
        "    print('Geeks IndexError  ', end = '')\n",
        "  \n",
        "data = 10\n",
        "try:\n",
        "    data = data/0\n",
        "except:\n",
        "    print('GFG ZeroDivisionError  ', end = '')\n",
        "finally:\n",
        "    print('Geeks ZeroDivisionError  ')"
      ],
      "metadata": {
        "colab": {
          "base_uri": "https://localhost:8080/"
        },
        "id": "hWiW5oSnqA7t",
        "outputId": "517a6b69-0f10-4320-e7be-52e63a1e0e48"
      },
      "execution_count": 39,
      "outputs": [
        {
          "output_type": "stream",
          "name": "stdout",
          "text": [
            "Geeks IndexError  GFG ZeroDivisionError  Geeks ZeroDivisionError  \n"
          ]
        }
      ]
    },
    {
      "cell_type": "code",
      "source": [
        "value = [1, 2, 3, 4, 5]\n",
        "try:\n",
        "    value = value[5]/0\n",
        "except (IndexError, ZeroDivisionError):\n",
        "    print('GeeksforGeeks ', end = '')\n",
        "else:\n",
        "    print('GFG ', end = '')\n",
        "finally:\n",
        "    print('Geeks ', end = '')"
      ],
      "metadata": {
        "colab": {
          "base_uri": "https://localhost:8080/"
        },
        "id": "OMreA-xPe3nd",
        "outputId": "6f4b5c31-b4ad-430f-f6d7-2ba8c84d87be"
      },
      "execution_count": 40,
      "outputs": [
        {
          "output_type": "stream",
          "name": "stdout",
          "text": [
            "GeeksforGeeks Geeks "
          ]
        }
      ]
    },
    {
      "cell_type": "code",
      "source": [
        "data = [2, 3, 9]\n",
        "temp = [[x for x in[data]] for x in range(3)] #2 3 9\n",
        "print (temp)"
      ],
      "metadata": {
        "colab": {
          "base_uri": "https://localhost:8080/"
        },
        "id": "k0d2SVQVf4Vg",
        "outputId": "3cdbe71d-ff67-4106-a63a-e910f29c1de6"
      },
      "execution_count": 42,
      "outputs": [
        {
          "output_type": "stream",
          "name": "stdout",
          "text": [
            "[[[2, 3, 9]], [[2, 3, 9]], [[2, 3, 9]]]\n"
          ]
        }
      ]
    },
    {
      "cell_type": "code",
      "source": [
        "L1 = []\n",
        "L1.append([1, [2, 3], 4])\n",
        "L1.extend([7, 8, 9])\n",
        "print(L1[0][1][1] + L1[2])"
      ],
      "metadata": {
        "colab": {
          "base_uri": "https://localhost:8080/"
        },
        "id": "YR-HsMGjf48l",
        "outputId": "76219d51-b7fe-4321-c6fc-eba30ceb028e"
      },
      "execution_count": 43,
      "outputs": [
        {
          "output_type": "stream",
          "name": "stdout",
          "text": [
            "11\n"
          ]
        }
      ]
    },
    {
      "cell_type": "code",
      "source": [
        "T1 = (1)               #this is integer and not tuple. Tuple of single element is (1,)\n",
        "T2 = (3, 4)            #this is tuple\n",
        "T1 += 5                #can add integer with integer\n",
        "print(T1)\n",
        "print(T1 + T2)         #cannot add tuple and integer"
      ],
      "metadata": {
        "colab": {
          "base_uri": "https://localhost:8080/",
          "height": 217
        },
        "id": "ZJVNCEAeiPoO",
        "outputId": "c66a5117-8699-4926-8688-75b3b2ec3acc"
      },
      "execution_count": 44,
      "outputs": [
        {
          "output_type": "stream",
          "name": "stdout",
          "text": [
            "6\n"
          ]
        },
        {
          "output_type": "error",
          "ename": "TypeError",
          "evalue": "ignored",
          "traceback": [
            "\u001b[0;31m---------------------------------------------------------------------------\u001b[0m",
            "\u001b[0;31mTypeError\u001b[0m                                 Traceback (most recent call last)",
            "\u001b[0;32m<ipython-input-44-6a8d4c7d5768>\u001b[0m in \u001b[0;36m<module>\u001b[0;34m()\u001b[0m\n\u001b[1;32m      3\u001b[0m \u001b[0mT1\u001b[0m \u001b[0;34m+=\u001b[0m \u001b[0;36m5\u001b[0m\u001b[0;34m\u001b[0m\u001b[0;34m\u001b[0m\u001b[0m\n\u001b[1;32m      4\u001b[0m \u001b[0mprint\u001b[0m\u001b[0;34m(\u001b[0m\u001b[0mT1\u001b[0m\u001b[0;34m)\u001b[0m\u001b[0;34m\u001b[0m\u001b[0;34m\u001b[0m\u001b[0m\n\u001b[0;32m----> 5\u001b[0;31m \u001b[0mprint\u001b[0m\u001b[0;34m(\u001b[0m\u001b[0mT1\u001b[0m \u001b[0;34m+\u001b[0m \u001b[0mT2\u001b[0m\u001b[0;34m)\u001b[0m\u001b[0;34m\u001b[0m\u001b[0;34m\u001b[0m\u001b[0m\n\u001b[0m",
            "\u001b[0;31mTypeError\u001b[0m: unsupported operand type(s) for +: 'int' and 'tuple'"
          ]
        }
      ]
    },
    {
      "cell_type": "code",
      "source": [
        "L = [1, 3, 5, 7, 9]\n",
        "print(L.pop(-3), end = '  ')\n",
        "print(L.remove(L[0]), end = '  ')\n",
        "print(L)"
      ],
      "metadata": {
        "colab": {
          "base_uri": "https://localhost:8080/"
        },
        "id": "hJWgjjGfk761",
        "outputId": "d76d4673-2ba3-4779-bbe9-f5b650a825ea"
      },
      "execution_count": 45,
      "outputs": [
        {
          "output_type": "stream",
          "name": "stdout",
          "text": [
            "5  None  [3, 7, 9]\n"
          ]
        }
      ]
    },
    {
      "cell_type": "code",
      "source": [
        "data = 50\n",
        "try:\n",
        "    data = data/10\n",
        "except ZeroDivisionError:\n",
        "    print('Cannot divide by 0 ', end = '')\n",
        "finally:\n",
        "    print('GeeksforGeeks ', end = '')\n",
        "else:\n",
        "    print('Division successful ', end = '')"
      ],
      "metadata": {
        "colab": {
          "base_uri": "https://localhost:8080/",
          "height": 130
        },
        "id": "8sKtsI8bqE5K",
        "outputId": "e6d57b46-abf9-47f7-d520-a3854d26d9e0"
      },
      "execution_count": 41,
      "outputs": [
        {
          "output_type": "error",
          "ename": "SyntaxError",
          "evalue": "ignored",
          "traceback": [
            "\u001b[0;36m  File \u001b[0;32m\"<ipython-input-41-f94fbb0a4fc5>\"\u001b[0;36m, line \u001b[0;32m8\u001b[0m\n\u001b[0;31m    else:\u001b[0m\n\u001b[0m       ^\u001b[0m\n\u001b[0;31mSyntaxError\u001b[0m\u001b[0;31m:\u001b[0m invalid syntax\n"
          ]
        }
      ]
    }
  ]
}