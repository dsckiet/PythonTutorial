{
 "cells": [
  {
   "cell_type": "code",
   "execution_count": 1,
   "id": "romance-charlotte",
   "metadata": {},
   "outputs": [
    {
     "name": "stdout",
     "output_type": "stream",
     "text": [
      "brown\n"
     ]
    }
   ],
   "source": [
    "# Find number of instance an class variables\n",
    "\n",
    "class Dog:\n",
    "       \n",
    "    animal = 'dog'     \n",
    "       \n",
    "\n",
    "    def __init__(self, breed):\n",
    "        self.breed = breed            \n",
    "   \n",
    "    def setColor(self, color):\n",
    "        self.color = color\n",
    "       \n",
    "    def getColor(self):    \n",
    "        return self.color   \n",
    "   \n",
    "Rodger = Dog(\"pug\")\n",
    "Rodger.setColor(\"brown\")\n",
    "print(Rodger.getColor()) \n",
    "\n",
    "## Answer\n",
    "# 1 Class variable\n",
    "# 2 instance variable"
   ]
  },
  {
   "cell_type": "code",
   "execution_count": 2,
   "id": "juvenile-construction",
   "metadata": {},
   "outputs": [
    {
     "name": "stdout",
     "output_type": "stream",
     "text": [
      "100\n",
      "102\n"
     ]
    }
   ],
   "source": [
    "class A():\n",
    "\n",
    "    def __init__(self,count=100):\n",
    "\n",
    "        self.count=count\n",
    "\n",
    "\n",
    "\n",
    "obj1=A()\n",
    "\n",
    "obj2=A(102)\n",
    "\n",
    "print(obj1.count)\n",
    "\n",
    "print(obj2.count)"
   ]
  },
  {
   "cell_type": "code",
   "execution_count": 4,
   "id": "aquatic-excitement",
   "metadata": {},
   "outputs": [
    {
     "name": "stdout",
     "output_type": "stream",
     "text": [
      "6\n"
     ]
    }
   ],
   "source": [
    "class A:\n",
    "\n",
    "    def __init__(self):\n",
    "\n",
    "        self.count=5\n",
    "\n",
    "        self.count=self.count+1\n",
    "\n",
    "a=A()\n",
    "\n",
    "print(a.count)\n"
   ]
  },
  {
   "cell_type": "code",
   "execution_count": 5,
   "id": "thermal-chuck",
   "metadata": {},
   "outputs": [
    {
     "name": "stdout",
     "output_type": "stream",
     "text": [
      "3\n",
      "7\n"
     ]
    }
   ],
   "source": [
    "class A:\n",
    "\n",
    "    def __init__(self,num):\n",
    "        #num=5\n",
    "\n",
    "        num=3\n",
    "        #num=3\n",
    "\n",
    "        self.num=num\n",
    "        #self.num=3\n",
    "\n",
    "    def change(self):\n",
    "\n",
    "        self.num=7\n",
    "\n",
    "a=A(5)\n",
    "\n",
    "print(a.num)\n",
    "\n",
    "a.change()\n",
    "\n",
    "print(a.num)\n",
    "\n"
   ]
  },
  {
   "cell_type": "code",
   "execution_count": 6,
   "id": "studied-luxembourg",
   "metadata": {},
   "outputs": [
    {
     "ename": "NameError",
     "evalue": "name 'count' is not defined",
     "output_type": "error",
     "traceback": [
      "\u001b[1;31m---------------------------------------------------------------------------\u001b[0m",
      "\u001b[1;31mNameError\u001b[0m                                 Traceback (most recent call last)",
      "\u001b[1;32m<ipython-input-6-d38e41bf18bb>\u001b[0m in \u001b[0;36m<module>\u001b[1;34m\u001b[0m\n\u001b[0;32m      7\u001b[0m         \u001b[0mself\u001b[0m\u001b[1;33m.\u001b[0m\u001b[0mcount\u001b[0m\u001b[1;33m=\u001b[0m\u001b[0mcount\u001b[0m\u001b[1;33m+\u001b[0m\u001b[1;36m1\u001b[0m\u001b[1;33m\u001b[0m\u001b[1;33m\u001b[0m\u001b[0m\n\u001b[0;32m      8\u001b[0m \u001b[1;33m\u001b[0m\u001b[0m\n\u001b[1;32m----> 9\u001b[1;33m \u001b[0ma\u001b[0m\u001b[1;33m=\u001b[0m\u001b[0mA\u001b[0m\u001b[1;33m(\u001b[0m\u001b[1;33m)\u001b[0m\u001b[1;33m\u001b[0m\u001b[1;33m\u001b[0m\u001b[0m\n\u001b[0m\u001b[0;32m     10\u001b[0m \u001b[1;33m\u001b[0m\u001b[0m\n\u001b[0;32m     11\u001b[0m \u001b[0mprint\u001b[0m\u001b[1;33m(\u001b[0m\u001b[0ma\u001b[0m\u001b[1;33m.\u001b[0m\u001b[0mcount\u001b[0m\u001b[1;33m)\u001b[0m\u001b[1;33m\u001b[0m\u001b[1;33m\u001b[0m\u001b[0m\n",
      "\u001b[1;32m<ipython-input-6-d38e41bf18bb>\u001b[0m in \u001b[0;36m__init__\u001b[1;34m(self)\u001b[0m\n\u001b[0;32m      5\u001b[0m         \u001b[0mself\u001b[0m\u001b[1;33m.\u001b[0m\u001b[0mcount\u001b[0m\u001b[1;33m=\u001b[0m\u001b[1;36m5\u001b[0m\u001b[1;33m\u001b[0m\u001b[1;33m\u001b[0m\u001b[0m\n\u001b[0;32m      6\u001b[0m \u001b[1;33m\u001b[0m\u001b[0m\n\u001b[1;32m----> 7\u001b[1;33m         \u001b[0mself\u001b[0m\u001b[1;33m.\u001b[0m\u001b[0mcount\u001b[0m\u001b[1;33m=\u001b[0m\u001b[0mcount\u001b[0m\u001b[1;33m+\u001b[0m\u001b[1;36m1\u001b[0m\u001b[1;33m\u001b[0m\u001b[1;33m\u001b[0m\u001b[0m\n\u001b[0m\u001b[0;32m      8\u001b[0m \u001b[1;33m\u001b[0m\u001b[0m\n\u001b[0;32m      9\u001b[0m \u001b[0ma\u001b[0m\u001b[1;33m=\u001b[0m\u001b[0mA\u001b[0m\u001b[1;33m(\u001b[0m\u001b[1;33m)\u001b[0m\u001b[1;33m\u001b[0m\u001b[1;33m\u001b[0m\u001b[0m\n",
      "\u001b[1;31mNameError\u001b[0m: name 'count' is not defined"
     ]
    }
   ],
   "source": [
    "# diff b/w self.x and x\n",
    "\n",
    "class A:\n",
    "\n",
    "    def __init__(self):\n",
    "\n",
    "        self.count=5\n",
    "\n",
    "        self.count=count+1\n",
    "\n",
    "a=A()\n",
    "\n",
    "print(a.count)\n"
   ]
  },
  {
   "cell_type": "code",
   "execution_count": 11,
   "id": "complete-southwest",
   "metadata": {},
   "outputs": [
    {
     "name": "stdout",
     "output_type": "stream",
     "text": [
      "There are many types of birds.\n",
      "Most of the birds can fly but some cannot.\n",
      "There are many types of birds.\n",
      "Sparrows can fly.\n",
      "There are many types of birds.\n",
      "Ostriches cannot fly.\n"
     ]
    }
   ],
   "source": [
    "class Bird:\n",
    "    \n",
    "    def intro(self):\n",
    "        print(\"There are many types of birds.\")\n",
    "  \n",
    "    def flight(self):\n",
    "        print(\"Most of the birds can fly but some cannot.\")\n",
    "  \n",
    "class sparrow(Bird):\n",
    "    \n",
    "    def flight(self):\n",
    "        print(\"Sparrows can fly.\")\n",
    "  \n",
    "class ostrich(Bird):\n",
    "  \n",
    "    def flight(self):\n",
    "        print(\"Ostriches cannot fly.\")\n",
    "  \n",
    "obj_bird = Bird()\n",
    "obj_spr = sparrow()\n",
    "obj_ost = ostrich()\n",
    "\n",
    "\n",
    "obj_bird.intro()\n",
    "obj_bird.flight()\n",
    "  \n",
    "obj_spr.intro()\n",
    "obj_spr.flight()\n",
    "  \n",
    "obj_ost.intro()\n",
    "obj_ost.flight()"
   ]
  },
  {
   "cell_type": "code",
   "execution_count": 12,
   "id": "specified-shannon",
   "metadata": {},
   "outputs": [
    {
     "name": "stdout",
     "output_type": "stream",
     "text": [
      "1 1 1\n",
      "1 2 1\n",
      "3 2 3\n"
     ]
    }
   ],
   "source": [
    "# Python 2.x class or class(object)\n",
    "# Python 3.x class A: class A(object):\n",
    "\n",
    "class A(object):\n",
    "\tval = 1\n",
    "\n",
    "class B(A):\n",
    "\tpass\n",
    "\n",
    "class C(A):\n",
    "\tpass\n",
    "\n",
    "print (A.val, B.val, C.val)\n",
    "B.val = 2\n",
    "# class attrribute in B called val with value 2\n",
    "print (A.val, B.val, C.val)\n",
    "A.val = 3\n",
    "print (A.val, B.val, C.val)"
   ]
  },
  {
   "cell_type": "code",
   "execution_count": 14,
   "id": "brutal-discussion",
   "metadata": {},
   "outputs": [
    {
     "name": "stdout",
     "output_type": "stream",
     "text": [
      "1 2\n"
     ]
    }
   ],
   "source": [
    "# super() ---> refers to parent class\n",
    " \n",
    "class A:\n",
    "    def __init__(self, x= 1):\n",
    "        self.x = x\n",
    "        #obj.x= 1\n",
    "class der(A):\n",
    "    def __init__(self,y = 2):\n",
    "        super().__init__() #\n",
    "        self.y = y#\n",
    "        #obj.y=2\n",
    "def main():\n",
    "    obj = der()\n",
    "    print(obj.x, obj.y)\n",
    "main()"
   ]
  },
  {
   "cell_type": "code",
   "execution_count": 17,
   "id": "listed-crash",
   "metadata": {},
   "outputs": [
    {
     "name": "stdout",
     "output_type": "stream",
     "text": [
      "Geek1 True E101\n"
     ]
    }
   ],
   "source": [
    "class Person:\n",
    "    def __init__(self, name):\n",
    "        # Geek1\n",
    "        self.name = name\n",
    "          \n",
    "    def getName(self):\n",
    "        return self.name\n",
    "      \n",
    "    def isEmployee(self):\n",
    "        return False\n",
    "  \n",
    "class Employee(Person):\n",
    "    def __init__(self, name, eid):\n",
    "        super().__init__(name)\n",
    "        self.empID = eid\n",
    "          \n",
    "    def isEmployee(self):\n",
    "        return True\n",
    "          \n",
    "    def getID(self):\n",
    "        return self.empID\n",
    "  \n",
    "# Driver code\n",
    "emp = Employee(\"Geek1\", \"E101\") \n",
    "print(emp.getName(), emp.isEmployee(), emp.getID())\n",
    "      # Geek 1     ,  True    ,          E101"
   ]
  },
  {
   "cell_type": "code",
   "execution_count": 19,
   "id": "trained-disposition",
   "metadata": {},
   "outputs": [
    {
     "name": "stdout",
     "output_type": "stream",
     "text": [
      "Base1\n",
      "Base2\n",
      "Derived\n",
      "Geek1 Geek2\n"
     ]
    }
   ],
   "source": [
    "class Base1(object):\n",
    "    def __init__(self):\n",
    "        self.str1 = \"Geek1\"\n",
    "        print(\"Base1\")\n",
    "  \n",
    "class Base2(object):\n",
    "    def __init__(self):\n",
    "        self.str2 = \"Geek2\"        \n",
    "        print(\"Base2\")\n",
    "  \n",
    "class Derived(Base1, Base2): # Multiple Inheritance\n",
    "    def __init__(self):\n",
    "          \n",
    "        # Calling constructors of Base1\n",
    "        # and Base2 classes\n",
    "        Base1.__init__(self)\n",
    "        Base2.__init__(self)\n",
    "        print(\"Derived\")\n",
    "          \n",
    "    def printStrs(self):\n",
    "        print(self.str1, self.str2)\n",
    "         \n",
    "  \n",
    "ob = Derived()\n",
    "ob.printStrs()"
   ]
  },
  {
   "cell_type": "code",
   "execution_count": null,
   "id": "brilliant-aaron",
   "metadata": {},
   "outputs": [],
   "source": [
    "# issubclass(a,b)\n",
    "# isinstance(a,b)\n",
    "\n",
    "# issubclass --> \n",
    "# True --> if a is a sub class of b\n",
    "# False\n",
    "\n",
    "# isinstance\n",
    "# True --> if a is an object of b"
   ]
  },
  {
   "cell_type": "code",
   "execution_count": 26,
   "id": "rural-partner",
   "metadata": {},
   "outputs": [
    {
     "name": "stdout",
     "output_type": "stream",
     "text": [
      "True\n",
      "False\n"
     ]
    }
   ],
   "source": [
    "# Find number of instance an class variables\n",
    "\n",
    "class Dog:\n",
    "       \n",
    "    animal = 'dog'     \n",
    "       \n",
    "\n",
    "    def __init__(self, breed):\n",
    "        self.breed = breed            \n",
    "   \n",
    "    def setColor(self, color):\n",
    "        self.color = color\n",
    "       \n",
    "    def getColor(self):    \n",
    "        return self.color   \n",
    "\n",
    "class A(Dog):\n",
    "\n",
    "    def __init__(self,count=100):\n",
    "\n",
    "        self.count=count\n",
    "\n",
    "\n",
    "doggy= Dog(\"Labra\")\n",
    "k=A(203)\n",
    "\n",
    "# isinstance\n",
    "# print(isinstance(doggy,A))\n",
    "\n",
    "# issubclass\n",
    "print(issubclass(A,Dog))\n",
    "print(issubclass(Dog,A))"
   ]
  },
  {
   "cell_type": "code",
   "execution_count": 30,
   "id": "driven-chester",
   "metadata": {},
   "outputs": [
    {
     "name": "stdout",
     "output_type": "stream",
     "text": [
      "False\n",
      "True\n",
      "True\n"
     ]
    }
   ],
   "source": [
    "# Python example to check if a class is\n",
    "# subclass of another\n",
    "  \n",
    "class Base(object):\n",
    "    pass   # Empty Class\n",
    "  \n",
    "class Derived(Base):\n",
    "    pass   # Empty Class\n",
    "  \n",
    "# Driver Code\n",
    "# print(issubclass(Derived, Base))\n",
    "# print(issubclass(Base, Derived))\n",
    "  \n",
    "d = Derived()\n",
    "b = Base()\n",
    "  \n",
    "print(isinstance(b, Derived))\n",
    "print(isinstance(d, Base))\n",
    "print(isinstance(d,Derived))"
   ]
  },
  {
   "cell_type": "code",
   "execution_count": 31,
   "id": "instrumental-committee",
   "metadata": {},
   "outputs": [
    {
     "name": "stdout",
     "output_type": "stream",
     "text": [
      "4\n",
      "8\n",
      "24\n"
     ]
    }
   ],
   "source": [
    "class X(object):\n",
    "    def __init__(self, a):\n",
    "        self.num = a\n",
    "    def doubleup(self):\n",
    "        self.num *= 2\n",
    "        # self.num = self.num*2\n",
    "        #obj.num=4*2\n",
    "        #obj.num=8\n",
    "  \n",
    "class Y(X):\n",
    "    def __init__(self, a):\n",
    "        X.__init__(self, a)\n",
    "        #obj.num=4\n",
    "    def tripleup(self):\n",
    "        self.num *= 3\n",
    "        #obj.num=8*3\n",
    "        #obj.num=24\n",
    "  \n",
    "obj = Y(4)\n",
    "print(obj.num)\n",
    "  \n",
    "obj.doubleup()\n",
    "print(obj.num)\n",
    "  \n",
    "obj.tripleup()\n",
    "print(obj.num)"
   ]
  },
  {
   "cell_type": "code",
   "execution_count": null,
   "id": "descending-hurricane",
   "metadata": {},
   "outputs": [],
   "source": [
    "# __dict__"
   ]
  },
  {
   "cell_type": "code",
   "execution_count": 42,
   "id": "smooth-validity",
   "metadata": {},
   "outputs": [
    {
     "name": "stdout",
     "output_type": "stream",
     "text": [
      "{'variable': 'Old', 'k': 1, 'k2': 2}\n"
     ]
    }
   ],
   "source": [
    "class test:\n",
    "    def __init__(self):\n",
    "        self.variable=\"Old\"\n",
    "        self.k=1\n",
    "        self.k2=2\n",
    "        self.Change(self.variable)\n",
    "    \n",
    "    def Change(self,var):\n",
    "        var=\"New\"\n",
    "\n",
    "obj=test()\n",
    "print(obj.variable)"
   ]
  },
  {
   "cell_type": "code",
   "execution_count": 47,
   "id": "quarterly-system",
   "metadata": {},
   "outputs": [
    {
     "name": "stdout",
     "output_type": "stream",
     "text": [
      "{'price': 50, 'quantity': 10, 'bags': 2}\n"
     ]
    }
   ],
   "source": [
    "class fruits:\n",
    "    def __init__(self,price):\n",
    "        self.price=price\n",
    "\n",
    "obj=fruits(50)\n",
    "\n",
    "obj.quantity=10\n",
    "obj.bags=2\n",
    "\n",
    "print(obj.__dict__)"
   ]
  },
  {
   "cell_type": "code",
   "execution_count": 49,
   "id": "executive-adolescent",
   "metadata": {},
   "outputs": [
    {
     "name": "stdout",
     "output_type": "stream",
     "text": [
      "111\n"
     ]
    }
   ],
   "source": [
    "class Acc:\n",
    "\tdef __init__(self, id):\n",
    "\t\tself.id = id\n",
    "\t\tid = 555\n",
    "\n",
    "acc = Acc(111)\n",
    "print(acc.id)"
   ]
  },
  {
   "cell_type": "code",
   "execution_count": null,
   "id": "animal-meter",
   "metadata": {},
   "outputs": [],
   "source": []
  }
 ],
 "metadata": {
  "kernelspec": {
   "display_name": "Python 3",
   "language": "python",
   "name": "python3"
  },
  "language_info": {
   "codemirror_mode": {
    "name": "ipython",
    "version": 3
   },
   "file_extension": ".py",
   "mimetype": "text/x-python",
   "name": "python",
   "nbconvert_exporter": "python",
   "pygments_lexer": "ipython3",
   "version": "3.8.2"
  }
 },
 "nbformat": 4,
 "nbformat_minor": 5
}
