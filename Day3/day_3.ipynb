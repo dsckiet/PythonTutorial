{
  "nbformat": 4,
  "nbformat_minor": 0,
  "metadata": {
    "colab": {
      "name": "day_3.ipynb",
      "provenance": [],
      "collapsed_sections": []
    },
    "kernelspec": {
      "name": "python3",
      "display_name": "Python 3"
    },
    "language_info": {
      "name": "python"
    }
  },
  "cells": [
    {
      "cell_type": "markdown",
      "source": [
        "objects and classes"
      ],
      "metadata": {
        "id": "COC1vQVjkzdy"
      }
    },
    {
      "cell_type": "code",
      "execution_count": 1,
      "metadata": {
        "id": "T-L9djr7kuat",
        "colab": {
          "base_uri": "https://localhost:8080/"
        },
        "outputId": "c0d81417-3633-4e84-f056-70f43d5719e2"
      },
      "outputs": [
        {
          "output_type": "stream",
          "name": "stdout",
          "text": [
            "I'm walking\n",
            "I'm walking\n"
          ]
        }
      ],
      "source": [
        "class Human:     #Create a class\n",
        "    def walk(self):   #This is behaviour/function/methods\n",
        "        print(\"I'm walking\")\n",
        "\n",
        "#Create an object:\n",
        "com1 = Human()\n",
        "com2 = Human()\n",
        "\n",
        "com1.walk()   #Result : I'm walking\n",
        "com2.walk()   #Result : I'm walking"
      ]
    },
    {
      "cell_type": "markdown",
      "source": [
        "init method"
      ],
      "metadata": {
        "id": "zJShew_hk-PJ"
      }
    },
    {
      "cell_type": "code",
      "source": [
        "class Human:\n",
        "    def __init__(self,name,age):\n",
        "        self.name = name\n",
        "        self.age = age\n",
        "\n",
        "    def greeting(self):\n",
        "        print(\"Hi, my name is\",self.name, \"and I'm\",self.age,\"old!\")\n",
        "\n",
        "# Create an object:\n",
        "human1 = Human(\"Navin\",28)\n",
        "human2 = Human(\"Penk\",18)\n",
        "\n",
        "human1.greeting()\n",
        "human2.greeting()"
      ],
      "metadata": {
        "id": "dsiTFD4ilAWx",
        "colab": {
          "base_uri": "https://localhost:8080/"
        },
        "outputId": "82722843-fd05-4762-d6c7-8fa0a4997748"
      },
      "execution_count": 2,
      "outputs": [
        {
          "output_type": "stream",
          "name": "stdout",
          "text": [
            "Hi, my name is Navin and I'm 28 old!\n",
            "Hi, my name is Penk and I'm 18 old!\n"
          ]
        }
      ]
    },
    {
      "cell_type": "markdown",
      "source": [
        "comparing objects"
      ],
      "metadata": {
        "id": "8Jgv96KilXee"
      }
    },
    {
      "cell_type": "code",
      "source": [
        "class Human:\n",
        "    def __init__(self,name,age):\n",
        "        self.name = name\n",
        "        self.age = age\n",
        "\n",
        "    def compare(self,other):\n",
        "        if self.age > other.age:\n",
        "            print(self.name,\"is older than\",other.name)\n",
        "        elif self.age < other.age:\n",
        "            print(self.name,\"is younger than\",other.name)\n",
        "        else:\n",
        "            print(\"They are same age\")\n",
        "\n",
        "h1 = Human('Navin',28)\n",
        "h2 = Human('Penk',18)\n",
        "\n",
        "h1.compare(h2)"
      ],
      "metadata": {
        "id": "Syli5g3nlb1y",
        "colab": {
          "base_uri": "https://localhost:8080/"
        },
        "outputId": "a37deef3-89a5-4719-fce1-5c9d46a15414"
      },
      "execution_count": 3,
      "outputs": [
        {
          "output_type": "stream",
          "name": "stdout",
          "text": [
            "Navin is older than Penk\n"
          ]
        }
      ]
    },
    {
      "cell_type": "markdown",
      "source": [
        "types of variable"
      ],
      "metadata": {
        "id": "UeTFz_8clhMc"
      }
    },
    {
      "cell_type": "code",
      "source": [
        "class Smartphone:\n",
        "    OS = 'Android'  #This is class variables\n",
        "\n",
        "    def __init__(self,ram,storage):\n",
        "        self.ram = ram  #This is instance variables\n",
        "        self.storage = storage  #This is instance variables\n",
        "\n",
        "    def show(self):\n",
        "        print(\"OS :\",self.OS, \", RAM :\",self.ram, \", Storage :\",self.storage)\n",
        "\n",
        "sp1 = Smartphone(3,32)\n",
        "sp2 = Smartphone(4,64)\n",
        "\n",
        "sp1.show()  # Result : OS : Android , RAM : 3 , Storage : 32\n",
        "sp2.show()  # Result : OS : Android , RAM : 4 , Storage : 64\n",
        "\n",
        "#Change the variable:\n",
        "sp1.storage = 64     #It will only change for sp1 object\n",
        "Smartphone.OS = \"iOS\"   #It will change for all object\n",
        "\n",
        "sp1.show()  # Result : OS : iOS , RAM : 3 , Storage : 64\n",
        "sp2.show()"
      ],
      "metadata": {
        "id": "uU5tC1o3ljqK",
        "colab": {
          "base_uri": "https://localhost:8080/"
        },
        "outputId": "6a57ce32-fa0b-4594-ce15-5bccc8247fcc"
      },
      "execution_count": 4,
      "outputs": [
        {
          "output_type": "stream",
          "name": "stdout",
          "text": [
            "OS : Android , RAM : 3 , Storage : 32\n",
            "OS : Android , RAM : 4 , Storage : 64\n",
            "OS : iOS , RAM : 3 , Storage : 64\n",
            "OS : iOS , RAM : 4 , Storage : 64\n"
          ]
        }
      ]
    },
    {
      "cell_type": "markdown",
      "source": [
        "types of methods"
      ],
      "metadata": {
        "id": "D9kr4K9vlySq"
      }
    },
    {
      "cell_type": "code",
      "source": [
        "class Student:\n",
        "    school = 'BINUS' #class variable\n",
        "\n",
        "    def __init__(self,n1,n2,n3):\n",
        "        self.n1 = n1\n",
        "        self.n2 = n2\n",
        "        self.n3 = n3\n",
        "\n",
        "    #This is instance method:\n",
        "    def avg(self):\n",
        "        print(\"The average scores :\",(self.n1 + self.n2 + self.n3) / 3)\n",
        "\n",
        "    #This is class method:\n",
        "    @classmethod  #decorators\n",
        "    def get_school(cls):\n",
        "        print(\"I studied at\",cls.school)\n",
        "\n",
        "    #This is static method\n",
        "    @staticmethod\n",
        "    def info():\n",
        "        print(\"This is Student Class\")\n",
        "\n",
        "s1 = Student(90,85,95)\n",
        "s2 = Student(100,75,90)\n",
        "\n",
        "s1.avg()    #call instance method\n",
        "Student.get_school()    #call class method\n",
        "Student.info()  #call static method"
      ],
      "metadata": {
        "id": "xQklHYCel4jL",
        "colab": {
          "base_uri": "https://localhost:8080/"
        },
        "outputId": "6ac4fc1c-f455-481c-d6ff-413cf88a3484"
      },
      "execution_count": 6,
      "outputs": [
        {
          "output_type": "stream",
          "name": "stdout",
          "text": [
            "The average scores : 90.0\n",
            "I studied at BINUS\n",
            "This is Student Class\n"
          ]
        }
      ]
    },
    {
      "cell_type": "markdown",
      "source": [
        "inner class"
      ],
      "metadata": {
        "id": "F1GYNzM7mIfp"
      }
    },
    {
      "cell_type": "code",
      "source": [
        "class Student:  #This is Outer Class\n",
        "    def __init__(self,name,age):\n",
        "        self.name = name\n",
        "        self.age = age\n",
        "        self.smartphone = self.Smartphone()\n",
        "\n",
        "    def show(self):\n",
        "        print(\"My name :\",self.name,\",\",self.age,\"years old\")\n",
        "        self.smartphone.show()\n",
        "\n",
        "    class Smartphone:   #This is Inner Class\n",
        "        def __init__(self):\n",
        "            self.brand = \"Asus\"\n",
        "            self.storage = \"1TB\"\n",
        "            self.ram = \"16GB\"\n",
        "\n",
        "        def show(self):\n",
        "            print(\"Smartphone specification :\",self.brand,self.storage,self.ram)\n",
        "\n",
        "s1 = Student(\"Penk\",18)\n",
        "sp1 = Student.Smartphone()\n",
        "\n",
        "s1.show()"
      ],
      "metadata": {
        "id": "WKQFBLN9mJyu",
        "colab": {
          "base_uri": "https://localhost:8080/"
        },
        "outputId": "44f9ee74-c234-4fa4-946f-f773b1ed3149"
      },
      "execution_count": 7,
      "outputs": [
        {
          "output_type": "stream",
          "name": "stdout",
          "text": [
            "My name : Penk , 18 years old\n",
            "Smartphone specification : Asus 1TB 16GB\n"
          ]
        }
      ]
    },
    {
      "cell_type": "markdown",
      "source": [
        "inheritance"
      ],
      "metadata": {
        "id": "5K39gImZmm2g"
      }
    },
    {
      "cell_type": "code",
      "source": [
        "class A:    #This is superclass\n",
        "    def f1(self):\n",
        "        print(\"Feature 1 working\")\n",
        "\n",
        "class B(A):     #This is subclass, will include methods from class A\n",
        "    def f2(self):\n",
        "        print(\"Feature 2 working\")\n",
        "\n",
        "#This is Multi level Inheritance:\n",
        "class C:    #This is superclass\n",
        "    def f3(self):\n",
        "        print(\"Feature 3 working\")\n",
        "\n",
        "class D(C):     #This is subclass, will include methods from class C\n",
        "    def f4(self):\n",
        "        print(\"Feature 4 working\")\n",
        "\n",
        "class E(D):     #This is subclass, will include methods from class C and D\n",
        "    def f5(self):\n",
        "        print(\"Feature 5 working\")\n",
        "\n",
        "#This is Multiple Inheritance:\n",
        "class F:    #This is superclass\n",
        "    def f6(self):\n",
        "        print(\"Feature 6 working\")\n",
        "\n",
        "class G:    #This is superclass\n",
        "    def f7(self):\n",
        "        print(\"Feature 7 working\")\n",
        "\n",
        "class H(F,G):   #This is subclass, will include methods from class F and G\n",
        "    def f8(self):\n",
        "        print(\"Feature 8 working\")\n",
        "\n",
        "a= B()\n",
        "a.f1()\n"
      ],
      "metadata": {
        "id": "CxBruYQ-mpqt",
        "colab": {
          "base_uri": "https://localhost:8080/"
        },
        "outputId": "a8c090b1-604f-4559-f162-5a7f3f6d7249"
      },
      "execution_count": 12,
      "outputs": [
        {
          "output_type": "stream",
          "name": "stdout",
          "text": [
            "Feature 1 working\n"
          ]
        }
      ]
    },
    {
      "cell_type": "markdown",
      "source": [
        "constructor inheritance"
      ],
      "metadata": {
        "id": "bsH27Dr5qhm0"
      }
    },
    {
      "cell_type": "code",
      "source": [
        "class A:\n",
        "    def __init__(self):\n",
        "        print('In init A')\n",
        "\n",
        "    def f1(self):\n",
        "        print('Feature 1-A working')\n",
        "\n",
        "class B:\n",
        "    def __init__(self):\n",
        "        print('In init B')\n",
        "\n",
        "    def f1(self):\n",
        "        print(\"Feature 1-B working\")\n",
        "\n",
        "class C(A,B):   #A is in the left, B in the right ... Remember MRO\n",
        "    def __init__(self):\n",
        "        super().__init__()  #It will call init from class A, not B\n",
        "        print('In init C')\n",
        "\n",
        "    def feat(self):     #It will call f1 from class A, not B\n",
        "        super().f1()\n",
        "\n",
        "obj = C()   #In init A\n",
        "            #In init C\n",
        "obj.f1() "
      ],
      "metadata": {
        "id": "iwnaxXDYqlIu",
        "colab": {
          "base_uri": "https://localhost:8080/"
        },
        "outputId": "7fda10ab-6b7f-4d45-c863-aca9776d2211"
      },
      "execution_count": 13,
      "outputs": [
        {
          "output_type": "stream",
          "name": "stdout",
          "text": [
            "In init A\n",
            "In init C\n",
            "Feature 1-A working\n"
          ]
        }
      ]
    },
    {
      "cell_type": "markdown",
      "source": [
        " Polymorphism\n",
        "# - Duck Typing\n",
        "# - Operator Overloading\n",
        "# - Method Overloading\n",
        "# - Method Overriding"
      ],
      "metadata": {
        "id": "3CqrwMMUqrEk"
      }
    },
    {
      "cell_type": "markdown",
      "source": [
        "duck typing"
      ],
      "metadata": {
        "id": "zGJxzXacqtRO"
      }
    },
    {
      "cell_type": "code",
      "source": [
        "class PyCharm:\n",
        "    def execute(self):\n",
        "        print(\"Compiling & Running\")\n",
        "\n",
        "class MyIDE:\n",
        "    def execute(self):\n",
        "        print(\"Spell check\")\n",
        "        print(\"Compiling & Running\")\n",
        "\n",
        "class Laptop:\n",
        "    def run_code(self,ide):\n",
        "        ide.execute()\n",
        "\n",
        "#Using PyCharm\n",
        "ide1 = PyCharm() #execute\n",
        "lap1 = Laptop() #run_code\n",
        "lap1.run_code(ide1)\n",
        "\n",
        "#Using MyIDE\n",
        "ide2 = MyIDE()\n",
        "lap2 = Laptop()\n",
        "lap2.run_code(ide2)\n"
      ],
      "metadata": {
        "id": "CJ_tPFD2qvkN",
        "colab": {
          "base_uri": "https://localhost:8080/"
        },
        "outputId": "a13fe1fb-e36d-4871-c086-0f13258c0021"
      },
      "execution_count": 14,
      "outputs": [
        {
          "output_type": "stream",
          "name": "stdout",
          "text": [
            "Compiling & Running\n",
            "Spell check\n",
            "Compiling & Running\n"
          ]
        }
      ]
    },
    {
      "cell_type": "markdown",
      "source": [
        "operator overloading"
      ],
      "metadata": {
        "id": "z7mowVwerxk3"
      }
    },
    {
      "cell_type": "code",
      "source": [
        "class Student:\n",
        "    def __init__(self,n1,n2):\n",
        "        self.n1 = n1\n",
        "        self.n2 = n2   \n",
        "\n",
        "    def __add__(self, other):   #define add method by yourself\n",
        "        m1 = self.n1 + other.n1\n",
        "        m2 = self.n2 + other.n2\n",
        "        m3 = Student(m1,m2)\n",
        "        return m3\n",
        "\n",
        "s1 = Student(90,85)\n",
        "s2 = Student(70,95)\n",
        "s3 = s1 + s2    #behind the scenes : Student.__add__(s1,s2)\n",
        "print(s3.n1)"
      ],
      "metadata": {
        "id": "7n10G6wRr34L"
      },
      "execution_count": null,
      "outputs": []
    },
    {
      "cell_type": "code",
      "source": [
        "1+2"
      ],
      "metadata": {
        "colab": {
          "base_uri": "https://localhost:8080/"
        },
        "id": "b67NDnDjLy_E",
        "outputId": "e08c81e0-1410-45a2-8515-fb5866352962"
      },
      "execution_count": 15,
      "outputs": [
        {
          "output_type": "execute_result",
          "data": {
            "text/plain": [
              "3"
            ]
          },
          "metadata": {},
          "execution_count": 15
        }
      ]
    },
    {
      "cell_type": "markdown",
      "source": [
        "method overloading"
      ],
      "metadata": {
        "id": "MLdcCjP0r9Er"
      }
    },
    {
      "cell_type": "code",
      "source": [
        "class Student:\n",
        "    def sum(self, a=None, b=None, c=None):  #default value is None if parameter unfilled\n",
        "        if a != None and b != None and c != None:\n",
        "            return a+b+c\n",
        "        elif a != None and b != None:\n",
        "            return a+b\n",
        "        else:\n",
        "            return a\n",
        "\n",
        "obj = Student()\n",
        "print(obj.sum(5,4,3))\n",
        "print(obj.sum(5,4))\n",
        "print(obj.sum(5))"
      ],
      "metadata": {
        "id": "8epYLFkjr-75",
        "colab": {
          "base_uri": "https://localhost:8080/"
        },
        "outputId": "12a6ba0a-e0ca-47f0-9be8-54c5f70963e3"
      },
      "execution_count": 16,
      "outputs": [
        {
          "output_type": "stream",
          "name": "stdout",
          "text": [
            "12\n",
            "9\n",
            "5\n"
          ]
        }
      ]
    },
    {
      "cell_type": "markdown",
      "source": [
        "method overriding"
      ],
      "metadata": {
        "id": "ysFhz4vjsAxz"
      }
    },
    {
      "cell_type": "code",
      "source": [
        "class A:\n",
        "    def show(self):\n",
        "        print('In A show')\n",
        "\n",
        "class B(A):\n",
        "    def show(self):\n",
        "        print('In B show')\n",
        "\n",
        "obj = A()\n",
        "obj.show()  #In A show\n",
        "\n",
        "obj2 = B()\n",
        "obj2.show() #In B show"
      ],
      "metadata": {
        "id": "JP0Tb06ssDfK",
        "colab": {
          "base_uri": "https://localhost:8080/"
        },
        "outputId": "709b7c0c-cbfc-472e-b368-ebc61509fef5"
      },
      "execution_count": 20,
      "outputs": [
        {
          "output_type": "stream",
          "name": "stdout",
          "text": [
            "In A show\n",
            "In B show\n"
          ]
        }
      ]
    }
  ]
}