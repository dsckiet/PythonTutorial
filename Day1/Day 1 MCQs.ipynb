{
 "cells": [
  {
   "cell_type": "code",
   "execution_count": 1,
   "id": "demographic-lightning",
   "metadata": {},
   "outputs": [
    {
     "name": "stdout",
     "output_type": "stream",
     "text": [
      "<class 'int'>\n",
      "<class 'str'>\n"
     ]
    }
   ],
   "source": [
    "var = 10\n",
    "print(type(var))\n",
    "var = \"Hello\"\n",
    "print(type(var))"
   ]
  },
  {
   "cell_type": "code",
   "execution_count": 10,
   "id": "jewish-aurora",
   "metadata": {},
   "outputs": [
    {
     "ename": "TypeError",
     "evalue": "'tuple' object does not support item assignment",
     "output_type": "error",
     "traceback": [
      "\u001b[1;31m---------------------------------------------------------------------------\u001b[0m",
      "\u001b[1;31mTypeError\u001b[0m                                 Traceback (most recent call last)",
      "\u001b[1;32m<ipython-input-10-dcf16902f93e>\u001b[0m in \u001b[0;36m<module>\u001b[1;34m\u001b[0m\n\u001b[0;32m      1\u001b[0m \u001b[0ma\u001b[0m \u001b[1;33m=\u001b[0m \u001b[1;33m(\u001b[0m\u001b[1;36m1\u001b[0m\u001b[1;33m,\u001b[0m \u001b[1;36m2\u001b[0m\u001b[1;33m,\u001b[0m \u001b[1;36m3\u001b[0m\u001b[1;33m)\u001b[0m\u001b[1;33m\u001b[0m\u001b[1;33m\u001b[0m\u001b[0m\n\u001b[0;32m      2\u001b[0m \u001b[1;31m# a=[1,2,3]\u001b[0m\u001b[1;33m\u001b[0m\u001b[1;33m\u001b[0m\u001b[1;33m\u001b[0m\u001b[0m\n\u001b[1;32m----> 3\u001b[1;33m \u001b[0ma\u001b[0m\u001b[1;33m[\u001b[0m\u001b[1;36m0\u001b[0m\u001b[1;33m]\u001b[0m \u001b[1;33m=\u001b[0m \u001b[1;36m2\u001b[0m\u001b[1;33m\u001b[0m\u001b[1;33m\u001b[0m\u001b[0m\n\u001b[0m\u001b[0;32m      4\u001b[0m \u001b[0mprint\u001b[0m\u001b[1;33m(\u001b[0m\u001b[0ma\u001b[0m\u001b[1;33m)\u001b[0m\u001b[1;33m\u001b[0m\u001b[1;33m\u001b[0m\u001b[0m\n",
      "\u001b[1;31mTypeError\u001b[0m: 'tuple' object does not support item assignment"
     ]
    }
   ],
   "source": [
    "a = (1, 2, 3)\n",
    "# a=[1,2,3]\n",
    "a[0] = 2\n",
    "print(a)"
   ]
  },
  {
   "cell_type": "code",
   "execution_count": 90,
   "id": "economic-promise",
   "metadata": {},
   "outputs": [
    {
     "name": "stdout",
     "output_type": "stream",
     "text": [
      "a\n",
      "b\n",
      "C\n",
      "a\n",
      "b\n",
      "C\n"
     ]
    }
   ],
   "source": [
    "# For loop\n",
    "\n",
    "my_list = [\"a\",\"b\",\"C\"]\n",
    "\n",
    "# iterating over list\n",
    "\n",
    "\n",
    "#Using range\n",
    "for i in range(0,len(my_list)):\n",
    "    print(my_list[i])\n",
    "\n",
    "# Without using ranage\n",
    "for i in my_list:\n",
    "    print(i)"
   ]
  },
  {
   "cell_type": "code",
   "execution_count": 91,
   "id": "tutorial-expense",
   "metadata": {},
   "outputs": [
    {
     "name": "stdout",
     "output_type": "stream",
     "text": [
      "2.5\n"
     ]
    }
   ],
   "source": [
    "print(5/2)"
   ]
  },
  {
   "cell_type": "code",
   "execution_count": 12,
   "id": "industrial-playing",
   "metadata": {},
   "outputs": [
    {
     "name": "stdout",
     "output_type": "stream",
     "text": [
      "2\n"
     ]
    }
   ],
   "source": [
    "print(5//2) # floor division"
   ]
  },
  {
   "cell_type": "code",
   "execution_count": 13,
   "id": "civilian-orange",
   "metadata": {},
   "outputs": [
    {
     "name": "stdout",
     "output_type": "stream",
     "text": [
      "<class 'float'>\n",
      "<class 'int'>\n"
     ]
    }
   ],
   "source": [
    "print(type(5 / 2))\n",
    "print(type(5 // 2))"
   ]
  },
  {
   "cell_type": "code",
   "execution_count": 18,
   "id": "plain-brazil",
   "metadata": {},
   "outputs": [
    {
     "name": "stdout",
     "output_type": "stream",
     "text": [
      "15\n"
     ]
    }
   ],
   "source": [
    "a = [1, 2, 3, 4, 5]\n",
    "sum = 0\n",
    "for ele in a:\n",
    "   sum += ele\n",
    "print(sum)"
   ]
  },
  {
   "cell_type": "code",
   "execution_count": 17,
   "id": "mental-browse",
   "metadata": {},
   "outputs": [
    {
     "name": "stdout",
     "output_type": "stream",
     "text": [
      "6\n",
      "222\n",
      "[1, 2, 1, 2, 1, 2]\n"
     ]
    }
   ],
   "source": [
    "# Print statement and * \n",
    "\n",
    "\n",
    "# int\n",
    "a=2\n",
    "print(a*3)\n",
    "\n",
    "# string\n",
    "a=\"2\"\n",
    "\n",
    "print(a*3)\n",
    "\n",
    "# list\n",
    "a=[1,2]\n",
    "print(a*3)"
   ]
  },
  {
   "cell_type": "code",
   "execution_count": 19,
   "id": "tracked-count",
   "metadata": {},
   "outputs": [
    {
     "name": "stdout",
     "output_type": "stream",
     "text": [
      "129\n"
     ]
    }
   ],
   "source": [
    "print(2**3 + (5 + 6)**(1 + 1))\n",
    "# ** operator"
   ]
  },
  {
   "cell_type": "code",
   "execution_count": 20,
   "id": "thorough-diamond",
   "metadata": {},
   "outputs": [
    {
     "data": {
      "text/plain": [
       "8"
      ]
     },
     "execution_count": 20,
     "metadata": {},
     "output_type": "execute_result"
    }
   ],
   "source": [
    "# 2**3 \n",
    "# 2 raised to the power of 3\n",
    "2**3\n",
    "# 11**2 == 121"
   ]
  },
  {
   "cell_type": "code",
   "execution_count": 93,
   "id": "above-inspector",
   "metadata": {},
   "outputs": [
    {
     "name": "stdout",
     "output_type": "stream",
     "text": [
      "a\n"
     ]
    }
   ],
   "source": [
    "# Indexing in python\n",
    "\n",
    "new_list=[\"a\",\"b\",\"c\",\"d\"]\n",
    "#          0   1   2   3\n",
    "#         -4  -3  -2  -1\n",
    "print(new_list[-4])"
   ]
  },
  {
   "cell_type": "code",
   "execution_count": 24,
   "id": "chemical-summit",
   "metadata": {},
   "outputs": [
    {
     "name": "stdout",
     "output_type": "stream",
     "text": [
      "['Monday', 'Tuesday']\n"
     ]
    }
   ],
   "source": [
    "# SLICING\n",
    "example = [\"Sunday\", \"Monday\", \"Tuesday\", \"Wednesday\"];\n",
    "print(example[-3:-1])"
   ]
  },
  {
   "cell_type": "code",
   "execution_count": 33,
   "id": "reflected-massachusetts",
   "metadata": {},
   "outputs": [
    {
     "name": "stdout",
     "output_type": "stream",
     "text": [
      "Wednesday\n"
     ]
    }
   ],
   "source": [
    "print(example[-1])"
   ]
  },
  {
   "cell_type": "code",
   "execution_count": 97,
   "id": "intense-nation",
   "metadata": {},
   "outputs": [
    {
     "data": {
      "text/plain": [
       "['Monday', 'Tuesday']"
      ]
     },
     "execution_count": 97,
     "metadata": {},
     "output_type": "execute_result"
    }
   ],
   "source": [
    "example[-3:-1]\n",
    "# example[1:3] and example [-3:-1] are equivalent"
   ]
  },
  {
   "cell_type": "code",
   "execution_count": 45,
   "id": "limiting-macro",
   "metadata": {},
   "outputs": [
    {
     "name": "stdout",
     "output_type": "stream",
     "text": [
      "Local\n",
      "Global\n"
     ]
    }
   ],
   "source": [
    "value = \"Global\" # Global variable\n",
    "\n",
    "def func():\n",
    "    value=\"Local\"\n",
    "    print(value)\n",
    "\n",
    "func()\n",
    "print(value)"
   ]
  },
  {
   "cell_type": "code",
   "execution_count": 47,
   "id": "apparent-collect",
   "metadata": {},
   "outputs": [
    {
     "name": "stdout",
     "output_type": "stream",
     "text": [
      "Local\n"
     ]
    }
   ],
   "source": [
    "value = \"Global\"\n",
    "\n",
    "def func2():\n",
    "   global value\n",
    "   value = \"Local\"\n",
    "\n",
    "func2()\n",
    "print(value)"
   ]
  },
  {
   "cell_type": "code",
   "execution_count": 48,
   "id": "defensive-launch",
   "metadata": {},
   "outputs": [
    {
     "name": "stdout",
     "output_type": "stream",
     "text": [
      "['1', '2', '3', '4', '5', '6', '7', '8']\n"
     ]
    }
   ],
   "source": [
    "s=\"1 2 3 4 5 6 7 8\"\n",
    "ls=s.split(\" \")\n",
    "print(ls)"
   ]
  },
  {
   "cell_type": "code",
   "execution_count": 49,
   "id": "unlikely-traffic",
   "metadata": {},
   "outputs": [
    {
     "name": "stdout",
     "output_type": "stream",
     "text": [
      "['ab', 'cd']\n"
     ]
    }
   ],
   "source": [
    "x = ['ab', 'cd']\n",
    "for i in x:\n",
    "    i.upper()\n",
    "print(x)"
   ]
  },
  {
   "cell_type": "code",
   "execution_count": 53,
   "id": "italic-companion",
   "metadata": {},
   "outputs": [
    {
     "name": "stdout",
     "output_type": "stream",
     "text": [
      "ABCD\n",
      "ABCD\n"
     ]
    }
   ],
   "source": [
    "mer_string=\"abcd\"\n",
    "print(mer_string.upper())\n",
    "mer_string=mer_string.upper()\n",
    "print(mer_string)\n",
    "# String immutability"
   ]
  },
  {
   "cell_type": "code",
   "execution_count": 56,
   "id": "contrary-optics",
   "metadata": {},
   "outputs": [
    {
     "name": "stdout",
     "output_type": "stream",
     "text": [
      "[2, 4, 7, 19, 22, 45, 72, 89]\n"
     ]
    }
   ],
   "source": [
    "numbers = (4, 7, 19, 2, 89, 45, 72, 22)\n",
    "sorted_numbers = sorted(numbers)\n",
    "print(sorted_numbers)\n",
    "# print(numbers)"
   ]
  },
  {
   "cell_type": "code",
   "execution_count": 57,
   "id": "super-outreach",
   "metadata": {},
   "outputs": [
    {
     "name": "stdout",
     "output_type": "stream",
     "text": [
      "[0, 1, 4, 9, 16]\n"
     ]
    }
   ],
   "source": [
    "square = lambda x: x ** 2\n",
    "a = []\n",
    "for i in range(5):\n",
    "   a.append(square(i))\n",
    "   \n",
    "print(a)"
   ]
  },
  {
   "cell_type": "code",
   "execution_count": 64,
   "id": "practical-holly",
   "metadata": {},
   "outputs": [
    {
     "name": "stdout",
     "output_type": "stream",
     "text": [
      "0\n",
      "4\n",
      "8\n"
     ]
    }
   ],
   "source": [
    "# RANGE FUNCTION\n",
    "# range(start,end,step)\n",
    "\n",
    "# First parameter default - 0\n",
    "# second paramter required\n",
    "# third parameter(step) default -1\n",
    "\n",
    "# for i in range(0,10,4):\n",
    "#     print(i)"
   ]
  },
  {
   "cell_type": "code",
   "execution_count": 99,
   "id": "smoking-colombia",
   "metadata": {},
   "outputs": [],
   "source": [
    "# Slicing \n",
    "\n",
    "# pehla parameter default - 0\n",
    "# second paramter defaults to end of list\n",
    "# step defaults to 1\n",
    "\n",
    "# Step in slicing\n",
    "meri_list=[\"a\",\"b\",\"c\",\"d\",\"e\",\"f\",\"g\"]"
   ]
  },
  {
   "cell_type": "code",
   "execution_count": 101,
   "id": "characteristic-rainbow",
   "metadata": {},
   "outputs": [
    {
     "data": {
      "text/plain": [
       "['b', 'd', 'f']"
      ]
     },
     "execution_count": 101,
     "metadata": {},
     "output_type": "execute_result"
    }
   ],
   "source": [
    "meri_list[:-1]\n",
    "# meri_list[:6]\n",
    "meri_list[1::2] # starts from 1st index till end of list(default value) with a step of 2"
   ]
  },
  {
   "cell_type": "code",
   "execution_count": 87,
   "id": "valid-cause",
   "metadata": {},
   "outputs": [
    {
     "name": "stdout",
     "output_type": "stream",
     "text": [
      "10\n",
      "9\n",
      "8\n",
      "7\n",
      "6\n",
      "5\n",
      "4\n",
      "3\n",
      "2\n",
      "1\n"
     ]
    }
   ],
   "source": [
    "# Negative Step \n",
    "# default step 1\n",
    "\n",
    "# meri_list=[\"a\",\"b\",\"c\",\"d\",\"e\",\"f\",\"g\"]\n",
    "# Shortcut to reverse a list,string in python \n",
    "# meri_list[::-1]\n",
    "\n",
    "#negative step in range function\n",
    "for i in range(10,0,-1):\n",
    "    print(i)\n"
   ]
  },
  {
   "cell_type": "code",
   "execution_count": 89,
   "id": "aggressive-musical",
   "metadata": {},
   "outputs": [
    {
     "data": {
      "text/plain": [
       "'abc'"
      ]
     },
     "execution_count": 89,
     "metadata": {},
     "output_type": "execute_result"
    }
   ],
   "source": [
    "stringsss=\"abcdefgh\"\n",
    "stringsss[:3]"
   ]
  },
  {
   "cell_type": "code",
   "execution_count": null,
   "id": "opposite-affair",
   "metadata": {},
   "outputs": [],
   "source": []
  }
 ],
 "metadata": {
  "kernelspec": {
   "display_name": "Python 3",
   "language": "python",
   "name": "python3"
  },
  "language_info": {
   "codemirror_mode": {
    "name": "ipython",
    "version": 3
   },
   "file_extension": ".py",
   "mimetype": "text/x-python",
   "name": "python",
   "nbconvert_exporter": "python",
   "pygments_lexer": "ipython3",
   "version": "3.8.2"
  }
 },
 "nbformat": 4,
 "nbformat_minor": 5
}
