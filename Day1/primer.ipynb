{
 "cells": [
  {
   "cell_type": "code",
   "execution_count": null,
   "metadata": {
    "id": "HOF8_a0-j7Ea"
   },
   "outputs": [],
   "source": [
    "a= \"string\"\n",
    "b=1\n",
    "c = True\n"
   ]
  },
  {
   "cell_type": "markdown",
   "metadata": {
    "id": "GC11wBh9lQ_1"
   },
   "source": []
  },
  {
   "cell_type": "code",
   "execution_count": null,
   "metadata": {
    "colab": {
     "base_uri": "https://localhost:8080/"
    },
    "id": "M-3ESZhylRqC",
    "outputId": "13332ea4-263a-4e7a-f6a6-28a1c6d62b56"
   },
   "outputs": [
    {
     "data": {
      "text/plain": [
       "bool"
      ]
     },
     "execution_count": 4,
     "metadata": {},
     "output_type": "execute_result"
    }
   ],
   "source": [
    "type(c)"
   ]
  },
  {
   "cell_type": "code",
   "execution_count": null,
   "metadata": {
    "colab": {
     "base_uri": "https://localhost:8080/"
    },
    "id": "fVtjAstslYuU",
    "outputId": "3e57d8d3-e88c-4691-b034-bcf31201b8cf"
   },
   "outputs": [
    {
     "name": "stdout",
     "output_type": "stream",
     "text": [
      "outputnew\n"
     ]
    }
   ],
   "source": [
    "print(\"output\", end=\"\")\n",
    "print(\"new\")"
   ]
  },
  {
   "cell_type": "code",
   "execution_count": null,
   "metadata": {
    "colab": {
     "base_uri": "https://localhost:8080/"
    },
    "id": "IxOfR4PulyKl",
    "outputId": "4dc09c11-62c5-43fa-840c-ae470c60cb26"
   },
   "outputs": [
    {
     "name": "stdout",
     "output_type": "stream",
     "text": [
      "value of a is string\n"
     ]
    }
   ],
   "source": [
    "print(f\"value of a is {a}\")"
   ]
  },
  {
   "cell_type": "markdown",
   "metadata": {
    "id": "7EYh23xemKn5"
   },
   "source": [
    "List"
   ]
  },
  {
   "cell_type": "code",
   "execution_count": null,
   "metadata": {
    "id": "lePc_Vo3mNrK"
   },
   "outputs": [],
   "source": [
    "l1= [\"a\",1]"
   ]
  },
  {
   "cell_type": "code",
   "execution_count": null,
   "metadata": {
    "id": "g_Nti9qbmYDJ"
   },
   "outputs": [],
   "source": [
    "numbers = [1, 2, 3, 4, 5]\n",
    "fruits = ['Apples', 'Oranges', 'Grapes', 'Pears']"
   ]
  },
  {
   "cell_type": "code",
   "execution_count": null,
   "metadata": {
    "colab": {
     "base_uri": "https://localhost:8080/"
    },
    "id": "FrVp0lgFmZgk",
    "outputId": "5a4ac231-d84f-49cc-ae48-e285678d299a"
   },
   "outputs": [
    {
     "name": "stdout",
     "output_type": "stream",
     "text": [
      "Pears\n"
     ]
    }
   ],
   "source": [
    "print(fruits[-1])"
   ]
  },
  {
   "cell_type": "code",
   "execution_count": null,
   "metadata": {
    "colab": {
     "base_uri": "https://localhost:8080/"
    },
    "id": "vuPKUu11mk61",
    "outputId": "993b5602-a45e-4fa5-ab38-1673d66ff6bc"
   },
   "outputs": [
    {
     "data": {
      "text/plain": [
       "5"
      ]
     },
     "execution_count": 13,
     "metadata": {},
     "output_type": "execute_result"
    }
   ],
   "source": [
    "len(numbers)"
   ]
  },
  {
   "cell_type": "code",
   "execution_count": null,
   "metadata": {
    "id": "XmAAwVnWmq31"
   },
   "outputs": [],
   "source": [
    "fruits.append(\"mango\")"
   ]
  },
  {
   "cell_type": "code",
   "execution_count": null,
   "metadata": {
    "colab": {
     "base_uri": "https://localhost:8080/"
    },
    "id": "T9kba05jmvzg",
    "outputId": "6a95ae9a-dfc3-4a17-a8b1-d360e0df922e"
   },
   "outputs": [
    {
     "data": {
      "text/plain": [
       "['Apples', 'Oranges', 'Grapes', 'Pears', 'mango']"
      ]
     },
     "execution_count": 15,
     "metadata": {},
     "output_type": "execute_result"
    }
   ],
   "source": [
    "fruits"
   ]
  },
  {
   "cell_type": "code",
   "execution_count": null,
   "metadata": {
    "colab": {
     "base_uri": "https://localhost:8080/"
    },
    "id": "NgkynSAqmysH",
    "outputId": "98ce0684-3dd0-489c-92c1-72713822a9eb"
   },
   "outputs": [
    {
     "data": {
      "text/plain": [
       "[1, 3, 4, 5]"
      ]
     },
     "execution_count": 16,
     "metadata": {},
     "output_type": "execute_result"
    }
   ],
   "source": [
    "numbers.remove(2)\n",
    "numbers"
   ]
  },
  {
   "cell_type": "code",
   "execution_count": null,
   "metadata": {
    "colab": {
     "base_uri": "https://localhost:8080/"
    },
    "id": "r3cXjv9sm9OY",
    "outputId": "de9714d5-3a65-4204-df16-f9883fa53ea4"
   },
   "outputs": [
    {
     "data": {
      "text/plain": [
       "[1, 4, 5]"
      ]
     },
     "execution_count": 17,
     "metadata": {},
     "output_type": "execute_result"
    }
   ],
   "source": [
    "numbers.pop(1)\n",
    "numbers"
   ]
  },
  {
   "cell_type": "code",
   "execution_count": null,
   "metadata": {
    "colab": {
     "base_uri": "https://localhost:8080/"
    },
    "id": "G7Xu4ASunDqV",
    "outputId": "348cdb8f-11a4-4585-ea88-d7d294062a9b"
   },
   "outputs": [
    {
     "data": {
      "text/plain": [
       "[1, 6, 4, 5]"
      ]
     },
     "execution_count": 18,
     "metadata": {},
     "output_type": "execute_result"
    }
   ],
   "source": [
    "numbers.insert(1,6)\n",
    "numbers"
   ]
  },
  {
   "cell_type": "code",
   "execution_count": null,
   "metadata": {
    "colab": {
     "base_uri": "https://localhost:8080/"
    },
    "id": "Ae5h8mBDnRbw",
    "outputId": "14e7761b-a327-4f50-84d7-dc387a300891"
   },
   "outputs": [
    {
     "data": {
      "text/plain": [
       "[5, 4, 6, 1]"
      ]
     },
     "execution_count": 19,
     "metadata": {},
     "output_type": "execute_result"
    }
   ],
   "source": [
    "numbers.reverse()\n",
    "numbers"
   ]
  },
  {
   "cell_type": "code",
   "execution_count": null,
   "metadata": {
    "colab": {
     "base_uri": "https://localhost:8080/"
    },
    "id": "wWX7whYTnb_5",
    "outputId": "d0c4a088-071b-4f38-d322-4b08cb3c57a0"
   },
   "outputs": [
    {
     "name": "stdout",
     "output_type": "stream",
     "text": [
      "None\n"
     ]
    }
   ],
   "source": [
    "num= numbers.reverse()\n",
    "print(num)"
   ]
  },
  {
   "cell_type": "code",
   "execution_count": null,
   "metadata": {
    "colab": {
     "base_uri": "https://localhost:8080/"
    },
    "id": "jANMBsIBnqTK",
    "outputId": "68178236-960c-415f-ebdc-0e31af7976d1"
   },
   "outputs": [
    {
     "data": {
      "text/plain": [
       "[6, 5, 4, 1]"
      ]
     },
     "execution_count": 24,
     "metadata": {},
     "output_type": "execute_result"
    }
   ],
   "source": [
    "numbers.sort(reverse= True)\n",
    "numbers"
   ]
  },
  {
   "cell_type": "code",
   "execution_count": null,
   "metadata": {
    "colab": {
     "base_uri": "https://localhost:8080/"
    },
    "id": "TY8UzCggnxyA",
    "outputId": "c7027f99-f6e2-45d0-e713-c4c90420aeaf"
   },
   "outputs": [
    {
     "data": {
      "text/plain": [
       "[1, 4, 5, 6]"
      ]
     },
     "execution_count": 23,
     "metadata": {},
     "output_type": "execute_result"
    }
   ],
   "source": [
    "new_numbers= sorted(numbers)\n",
    "new_numbers"
   ]
  },
  {
   "cell_type": "markdown",
   "metadata": {
    "id": "WqaUD7oMoAS7"
   },
   "source": [
    "tuples"
   ]
  },
  {
   "cell_type": "code",
   "execution_count": null,
   "metadata": {
    "id": "8zso40mBoIe0"
   },
   "outputs": [],
   "source": [
    "fruits = ('Apples', 'Oranges', 'Grapes')\n",
    "fruits2 = ('Apples',)"
   ]
  },
  {
   "cell_type": "code",
   "execution_count": null,
   "metadata": {
    "id": "tZnyubHwotyl"
   },
   "outputs": [],
   "source": [
    "fruits= list(fruits)"
   ]
  },
  {
   "cell_type": "code",
   "execution_count": null,
   "metadata": {
    "id": "33IG_bGKoxOB"
   },
   "outputs": [],
   "source": [
    "fruits= tuple(fruits)"
   ]
  },
  {
   "cell_type": "code",
   "execution_count": null,
   "metadata": {
    "colab": {
     "base_uri": "https://localhost:8080/"
    },
    "id": "9a_u05Y8oVtI",
    "outputId": "bb675a64-2eff-451f-e176-ad46ea3a2344"
   },
   "outputs": [
    {
     "data": {
      "text/plain": [
       "tuple"
      ]
     },
     "execution_count": 34,
     "metadata": {},
     "output_type": "execute_result"
    }
   ],
   "source": [
    "type(fruits)"
   ]
  },
  {
   "cell_type": "code",
   "execution_count": null,
   "metadata": {
    "colab": {
     "base_uri": "https://localhost:8080/"
    },
    "id": "jmAs0TFxoYOd",
    "outputId": "39f6a0e2-35c7-4e49-9b10-f0feb70d32d3"
   },
   "outputs": [
    {
     "name": "stdout",
     "output_type": "stream",
     "text": [
      "Grapes\n"
     ]
    }
   ],
   "source": [
    "print(fruits[2])"
   ]
  },
  {
   "cell_type": "code",
   "execution_count": null,
   "metadata": {
    "id": "KDzmMqYBoid-"
   },
   "outputs": [],
   "source": [
    "del fruits"
   ]
  },
  {
   "cell_type": "code",
   "execution_count": null,
   "metadata": {
    "id": "-n-0f-9BolkJ"
   },
   "outputs": [],
   "source": [
    "tuple_name[0]"
   ]
  },
  {
   "cell_type": "markdown",
   "metadata": {
    "id": "P_7JF2SZo4iw"
   },
   "source": [
    "Sets"
   ]
  },
  {
   "cell_type": "code",
   "execution_count": null,
   "metadata": {
    "id": "XCCZEMXQo6Ji"
   },
   "outputs": [],
   "source": [
    "fruits_set = {'Apples', 'Oranges', 'Mango'}"
   ]
  },
  {
   "cell_type": "code",
   "execution_count": null,
   "metadata": {
    "id": "_DAsUKGWptrL"
   },
   "outputs": [],
   "source": [
    "fruits_set.remove(\"Mango\")"
   ]
  },
  {
   "cell_type": "code",
   "execution_count": null,
   "metadata": {
    "colab": {
     "base_uri": "https://localhost:8080/"
    },
    "id": "sTBPA1VHp4GN",
    "outputId": "221fbb63-b978-4710-ffb0-1c4441fee03b"
   },
   "outputs": [
    {
     "data": {
      "text/plain": [
       "{'Apples', 'Oranges'}"
      ]
     },
     "execution_count": 38,
     "metadata": {},
     "output_type": "execute_result"
    }
   ],
   "source": [
    "fruits_set"
   ]
  },
  {
   "cell_type": "code",
   "execution_count": null,
   "metadata": {
    "id": "gmpkKCyzqDxV"
   },
   "outputs": [],
   "source": [
    "fruits_set.clear()"
   ]
  },
  {
   "cell_type": "code",
   "execution_count": null,
   "metadata": {
    "colab": {
     "base_uri": "https://localhost:8080/"
    },
    "id": "bYxyWgINqFht",
    "outputId": "d8352bb7-33db-4d78-a8f1-039739bf8c28"
   },
   "outputs": [
    {
     "data": {
      "text/plain": [
       "set()"
      ]
     },
     "execution_count": 40,
     "metadata": {},
     "output_type": "execute_result"
    }
   ],
   "source": [
    "fruits_set"
   ]
  },
  {
   "cell_type": "markdown",
   "metadata": {
    "id": "8uh0N0F0qJi6"
   },
   "source": [
    "dictionary"
   ]
  },
  {
   "cell_type": "code",
   "execution_count": null,
   "metadata": {
    "id": "L4McmLN6qMOt"
   },
   "outputs": [],
   "source": [
    "person = {\n",
    "    'first_name': 'John',\n",
    "    'last_name': 'Doe',\n",
    "    'age': 30\n",
    "}"
   ]
  },
  {
   "cell_type": "code",
   "execution_count": null,
   "metadata": {
    "colab": {
     "base_uri": "https://localhost:8080/"
    },
    "id": "uqT1cXndqolE",
    "outputId": "46095375-6746-474b-e4c6-223a4f82d594"
   },
   "outputs": [
    {
     "data": {
      "text/plain": [
       "30"
      ]
     },
     "execution_count": 45,
     "metadata": {},
     "output_type": "execute_result"
    }
   ],
   "source": [
    "person[\"age\"]"
   ]
  },
  {
   "cell_type": "code",
   "execution_count": null,
   "metadata": {
    "id": "sQcRP8sNq1QE"
   },
   "outputs": [],
   "source": [
    "person['phone'] = '555-555-5555'"
   ]
  },
  {
   "cell_type": "code",
   "execution_count": null,
   "metadata": {
    "colab": {
     "base_uri": "https://localhost:8080/"
    },
    "id": "UwWKoX9tq8SQ",
    "outputId": "9c66c84b-d55e-4c1b-9359-5e01c760301d"
   },
   "outputs": [
    {
     "data": {
      "text/plain": [
       "{'age': 30, 'first_name': 'John', 'last_name': 'Doe', 'phone': '555-555-5555'}"
      ]
     },
     "execution_count": 47,
     "metadata": {},
     "output_type": "execute_result"
    }
   ],
   "source": [
    "person"
   ]
  },
  {
   "cell_type": "code",
   "execution_count": null,
   "metadata": {
    "colab": {
     "base_uri": "https://localhost:8080/"
    },
    "id": "FROjbUffq_TQ",
    "outputId": "a9108714-b681-4d50-b03c-f739c9a193c1"
   },
   "outputs": [
    {
     "name": "stdout",
     "output_type": "stream",
     "text": [
      "dict_keys(['first_name', 'last_name', 'age', 'phone'])\n"
     ]
    }
   ],
   "source": [
    "print(person.keys())"
   ]
  },
  {
   "cell_type": "code",
   "execution_count": null,
   "metadata": {
    "colab": {
     "base_uri": "https://localhost:8080/"
    },
    "id": "x9v2n44srD_M",
    "outputId": "73acca60-fb4e-45b5-cd48-3bdd6e6c0bf2"
   },
   "outputs": [
    {
     "name": "stdout",
     "output_type": "stream",
     "text": [
      "dict_items([('first_name', 'John'), ('last_name', 'Doe'), ('age', 30), ('phone', '555-555-5555')])\n"
     ]
    }
   ],
   "source": [
    "print(person.items())"
   ]
  },
  {
   "cell_type": "code",
   "execution_count": null,
   "metadata": {
    "colab": {
     "base_uri": "https://localhost:8080/"
    },
    "id": "uo9a2SH3rMfA",
    "outputId": "9ed1645f-9f7a-41aa-ea5e-5531f0ddd8cd"
   },
   "outputs": [
    {
     "data": {
      "text/plain": [
       "{'first_name': 'John', 'last_name': 'Doe', 'phone': '555-555-5555'}"
      ]
     },
     "execution_count": 50,
     "metadata": {},
     "output_type": "execute_result"
    }
   ],
   "source": [
    "del(person['age'])\n",
    "person"
   ]
  },
  {
   "cell_type": "code",
   "execution_count": null,
   "metadata": {
    "colab": {
     "base_uri": "https://localhost:8080/"
    },
    "id": "d-RArOpBrSGb",
    "outputId": "4329ba4e-e94a-4823-9b23-603765053656"
   },
   "outputs": [
    {
     "data": {
      "text/plain": [
       "{'last_name': 'Doe', 'phone': '555-555-5555'}"
      ]
     },
     "execution_count": 52,
     "metadata": {},
     "output_type": "execute_result"
    }
   ],
   "source": [
    "person.pop(\"first_name\")\n",
    "person"
   ]
  },
  {
   "cell_type": "code",
   "execution_count": null,
   "metadata": {
    "id": "eAhfko18rb8_"
   },
   "outputs": [],
   "source": [
    "list1= [4,4,2,5,3,4,2,5]"
   ]
  },
  {
   "cell_type": "code",
   "execution_count": null,
   "metadata": {
    "colab": {
     "base_uri": "https://localhost:8080/"
    },
    "id": "Wccdlj8urh6D",
    "outputId": "18ef7abf-08cc-406a-9ea2-015fb25424d7"
   },
   "outputs": [
    {
     "data": {
      "text/plain": [
       "{2: 2, 3: 1, 4: 3, 5: 2}"
      ]
     },
     "execution_count": 55,
     "metadata": {},
     "output_type": "execute_result"
    }
   ],
   "source": [
    "d1={}\n",
    "for x in list1:\n",
    "  if x not in d1:\n",
    "    d1[x]=1\n",
    "  else:\n",
    "    d1[x]=d1[x]+1\n",
    "d1\n"
   ]
  },
  {
   "cell_type": "code",
   "execution_count": null,
   "metadata": {
    "colab": {
     "base_uri": "https://localhost:8080/"
    },
    "id": "Tw4vBqCXsEuQ",
    "outputId": "cbe5358b-6115-4c14-a1eb-04b5e4f2ec18"
   },
   "outputs": [
    {
     "data": {
      "text/plain": [
       "4"
      ]
     },
     "execution_count": 56,
     "metadata": {},
     "output_type": "execute_result"
    }
   ],
   "source": [
    "len(d1)"
   ]
  },
  {
   "cell_type": "code",
   "execution_count": null,
   "metadata": {
    "id": "fFpR9bYJsKMf"
   },
   "outputs": [],
   "source": []
  },
  {
   "cell_type": "markdown",
   "metadata": {
    "id": "9O5eA2_FsRMd"
   },
   "source": [
    "Strings"
   ]
  },
  {
   "cell_type": "code",
   "execution_count": null,
   "metadata": {
    "colab": {
     "base_uri": "https://localhost:8080/"
    },
    "id": "8IyLpulVsKKC",
    "outputId": "eaaffaf8-68c2-4e6f-f5be-8d2ed62058d3"
   },
   "outputs": [
    {
     "name": "stdout",
     "output_type": "stream",
     "text": [
      "Hello, my name is Brad and I am 37\n"
     ]
    }
   ],
   "source": [
    "name = 'Brad'\n",
    "age = 37\n",
    "\n",
    "# Concatenate\n",
    "print(f'Hello, my name is {name} and I am {age}')"
   ]
  },
  {
   "cell_type": "code",
   "execution_count": null,
   "metadata": {
    "id": "9voR-lEDsqYM"
   },
   "outputs": [],
   "source": [
    "s= \"mycourseistechnology\""
   ]
  },
  {
   "cell_type": "code",
   "execution_count": null,
   "metadata": {
    "colab": {
     "base_uri": "https://localhost:8080/"
    },
    "id": "9j0f955YskWu",
    "outputId": "7ef9d32d-2996-4d78-b760-2ceeb2758474"
   },
   "outputs": [
    {
     "name": "stdout",
     "output_type": "stream",
     "text": [
      "My course is technology\n",
      "MY COURSE IS TECHNOLOGY\n",
      "my course is technology\n",
      "MY COURSE IS TECHNOLOGY\n",
      "23\n"
     ]
    }
   ],
   "source": [
    "print(s.capitalize())\n",
    "\n",
    "# Make all uppercase\n",
    "print(s.upper())\n",
    "\n",
    "# Make all lower\n",
    "print(s.lower())\n",
    "\n",
    "# Swap case\n",
    "print(s.swapcase())\n",
    "\n",
    "# Get length\n",
    "print(len(s))\n"
   ]
  },
  {
   "cell_type": "code",
   "execution_count": null,
   "metadata": {
    "colab": {
     "base_uri": "https://localhost:8080/"
    },
    "id": "lRtX_9hxtDW0",
    "outputId": "2d8d2c89-bc02-4d64-bab5-ca810dca5bd3"
   },
   "outputs": [
    {
     "name": "stdout",
     "output_type": "stream",
     "text": [
      "my course is physics\n"
     ]
    }
   ],
   "source": [
    "print(s.replace('technology', 'physics'))"
   ]
  },
  {
   "cell_type": "code",
   "execution_count": null,
   "metadata": {
    "colab": {
     "base_uri": "https://localhost:8080/"
    },
    "id": "aLKVzQWvtb1N",
    "outputId": "0b525b95-8b31-423f-fafc-040fdea9797d"
   },
   "outputs": [
    {
     "name": "stdout",
     "output_type": "stream",
     "text": [
      "1\n"
     ]
    }
   ],
   "source": [
    "sub = 'no'\n",
    "print(s.count(sub))"
   ]
  },
  {
   "cell_type": "code",
   "execution_count": null,
   "metadata": {
    "id": "X2bzoT69tjkW"
   },
   "outputs": [],
   "source": [
    "string1= \"My NaMe iD1\""
   ]
  },
  {
   "cell_type": "code",
   "execution_count": null,
   "metadata": {
    "colab": {
     "base_uri": "https://localhost:8080/"
    },
    "id": "Bzr5jCSdtq0F",
    "outputId": "38f978ea-2414-4043-f5fd-4c8240ed957b"
   },
   "outputs": [
    {
     "name": "stdout",
     "output_type": "stream",
     "text": [
      "mY nAmE Id1\n"
     ]
    }
   ],
   "source": [
    "print(string1.swapcase())"
   ]
  },
  {
   "cell_type": "code",
   "execution_count": null,
   "metadata": {
    "colab": {
     "base_uri": "https://localhost:8080/"
    },
    "id": "9rPjwVOht5D5",
    "outputId": "7cfc179f-c12e-4968-d670-110ed1b8bdb6"
   },
   "outputs": [
    {
     "name": "stdout",
     "output_type": "stream",
     "text": [
      "False\n",
      "True\n"
     ]
    }
   ],
   "source": [
    "print(s.startswith('hello'))\n",
    "\n",
    "print(s.endswith('gy'))"
   ]
  },
  {
   "cell_type": "code",
   "execution_count": null,
   "metadata": {
    "colab": {
     "base_uri": "https://localhost:8080/"
    },
    "id": "PuTXvgVGuIZc",
    "outputId": "2f26dd73-d187-4051-d56c-b142cec2435e"
   },
   "outputs": [
    {
     "data": {
      "text/plain": [
       "['m', ' course is technolog', '']"
      ]
     },
     "execution_count": 70,
     "metadata": {},
     "output_type": "execute_result"
    }
   ],
   "source": [
    "l1= list(s.split(\"y\"))\n",
    "l1"
   ]
  },
  {
   "cell_type": "code",
   "execution_count": null,
   "metadata": {
    "colab": {
     "base_uri": "https://localhost:8080/"
    },
    "id": "WnFlWwBsuep7",
    "outputId": "576a46b1-b7fc-4bbc-bcfa-229ba7d2a6ef"
   },
   "outputs": [
    {
     "name": "stdout",
     "output_type": "stream",
     "text": [
      "5\n",
      "True\n",
      "True\n",
      "False\n"
     ]
    }
   ],
   "source": [
    "print(s.find('r'))\n",
    "\n",
    "# Is all alphanumeric\n",
    "print(s.isalnum())\n",
    "\n",
    "# Is all alphabetic\n",
    "print(s.isalpha())\n",
    "\n",
    "# Is all numeric\n",
    "print(s.isnumeric())"
   ]
  },
  {
   "cell_type": "code",
   "execution_count": null,
   "metadata": {
    "colab": {
     "base_uri": "https://localhost:8080/"
    },
    "id": "wQoQde8gvSOm",
    "outputId": "8572e2f8-5eda-4d79-8700-4aa1049e8669"
   },
   "outputs": [
    {
     "name": "stdout",
     "output_type": "stream",
     "text": [
      "Hello Sam\n"
     ]
    }
   ],
   "source": [
    "def sayHello(name='Sam'):\n",
    "    print(f'Hello {name}')\n",
    "sayHello()\n",
    "\n",
    "# Return values\n"
   ]
  },
  {
   "cell_type": "code",
   "execution_count": null,
   "metadata": {
    "colab": {
     "base_uri": "https://localhost:8080/"
    },
    "id": "o55tR7h6vhOA",
    "outputId": "9b56878c-8286-4dba-e7a2-0d238a9e3848"
   },
   "outputs": [
    {
     "name": "stdout",
     "output_type": "stream",
     "text": [
      "5\n"
     ]
    }
   ],
   "source": [
    "def getSum(num1, num2):\n",
    "    total = num1 + num2\n",
    "    return(total)\n",
    "print(getSum(2,3))"
   ]
  },
  {
   "cell_type": "code",
   "execution_count": null,
   "metadata": {
    "colab": {
     "base_uri": "https://localhost:8080/"
    },
    "id": "YCfCT4TSvtul",
    "outputId": "1d1a962e-e568-4642-a137-9e67dd94f8ab"
   },
   "outputs": [
    {
     "name": "stdout",
     "output_type": "stream",
     "text": [
      "13\n"
     ]
    }
   ],
   "source": [
    "getSum = lambda num1, num2: num1 + num2\n",
    "\n",
    "print(getSum(10, 3))"
   ]
  },
  {
   "cell_type": "code",
   "execution_count": null,
   "metadata": {
    "id": "pHSLqd6XwCAx"
   },
   "outputs": [],
   "source": [
    "people = ['John', 'Paul', 'Sara', 'Susan']"
   ]
  },
  {
   "cell_type": "code",
   "execution_count": null,
   "metadata": {
    "colab": {
     "base_uri": "https://localhost:8080/"
    },
    "id": "2GxzKWc8wDqY",
    "outputId": "e4475ca7-3f0c-42cd-a4ae-65c5c56b365e"
   },
   "outputs": [
    {
     "name": "stdout",
     "output_type": "stream",
     "text": [
      "John\n",
      "Paul\n",
      "Sara\n",
      "Susan\n"
     ]
    }
   ],
   "source": [
    "for i in range(0,len(people)):\n",
    "  print(people[i])"
   ]
  },
  {
   "cell_type": "code",
   "execution_count": null,
   "metadata": {
    "colab": {
     "base_uri": "https://localhost:8080/"
    },
    "id": "a0zwyRkewVjG",
    "outputId": "dc8ba751-edb4-4dfb-df78-e66b02d062e9"
   },
   "outputs": [
    {
     "name": "stdout",
     "output_type": "stream",
     "text": [
      "John\n",
      "Paul\n",
      "Sara\n",
      "Susan\n"
     ]
    }
   ],
   "source": [
    "for x in people:\n",
    "  print(x)"
   ]
  },
  {
   "cell_type": "code",
   "execution_count": null,
   "metadata": {
    "colab": {
     "base_uri": "https://localhost:8080/"
    },
    "id": "yEyiaTaQwc3q",
    "outputId": "6bcc4a56-3dca-4643-dad2-7ef303f1a98e"
   },
   "outputs": [
    {
     "name": "stdout",
     "output_type": "stream",
     "text": [
      "John\n",
      "Paul\n",
      "Sara\n",
      "Susan\n"
     ]
    }
   ],
   "source": [
    "i=0\n",
    "while i<len(people):\n",
    "  print(people[i])\n",
    "  i=i+1"
   ]
  }
 ],
 "metadata": {
  "colab": {
   "collapsed_sections": [],
   "name": "Untitled139.ipynb",
   "provenance": []
  },
  "kernelspec": {
   "display_name": "Python 3",
   "language": "python",
   "name": "python3"
  },
  "language_info": {
   "codemirror_mode": {
    "name": "ipython",
    "version": 3
   },
   "file_extension": ".py",
   "mimetype": "text/x-python",
   "name": "python",
   "nbconvert_exporter": "python",
   "pygments_lexer": "ipython3",
   "version": "3.8.2"
  }
 },
 "nbformat": 4,
 "nbformat_minor": 1
}
